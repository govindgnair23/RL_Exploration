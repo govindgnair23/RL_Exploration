{
 "cells": [
  {
   "cell_type": "markdown",
   "metadata": {},
   "source": [
    "# Introduction"
   ]
  },
  {
   "cell_type": "markdown",
   "metadata": {},
   "source": [
    "The multi-armed bandit problem is the problem of choosing between exploration and exploitation. <br>\n",
    "**Exploitation** is making the best decision given the information you have. <br>\n",
    "**Exploration** is gathering more information about the environment so that you can make a potentially better decision.<br>\n"
   ]
  },
  {
   "cell_type": "markdown",
   "metadata": {},
   "source": [
    "E.g. 1) <br>\n",
    "You have access to **n** slot machines at a casino. Each machine gives you a certain probability of winning. Your objective is to maximize the expected reward from playing on these slot machines (action is to choose between the **n** machines) over **N** plays (e.g. N = 100)"
   ]
  },
  {
   "cell_type": "markdown",
   "metadata": {},
   "source": [
    "E.g. 2) <br>\n",
    "A doctor has to select betwen **n** experimental treatments for a series of **N** ill patients. Your objective is to maximize the survival of these patients by choosing amonng these **n** treatments over the **N** patients."
   ]
  },
  {
   "cell_type": "markdown",
   "metadata": {},
   "source": [
    "E.g.3) <br>\n",
    "You have to pick a restaurant for dinner fron **n** possible restaurants. Your objective is to maximize your satisfaction fron dinners over the next **N** weekends"
   ]
  },
  {
   "cell_type": "markdown",
   "metadata": {},
   "source": [
    "E.g. 4) <br>\n",
    "You have to choose between **n** values for a specific hyperparameter for a model, you have a limited time budget in which you can fit a model **N** times.  "
   ]
  },
  {
   "cell_type": "code",
   "execution_count": 1,
   "metadata": {
    "scrolled": true
   },
   "outputs": [
    {
     "data": {
      "text/html": [
       "\n",
       "    <video  width = \"640\" height = \"300\" alt=\"test\" controls>\n",
       "        <source src=\"multi_armed_bandit.webm\" type=\"video/mp4\">\n",
       "    </video>\n"
      ],
      "text/plain": [
       "<IPython.core.display.HTML object>"
      ]
     },
     "execution_count": 1,
     "metadata": {},
     "output_type": "execute_result"
    }
   ],
   "source": [
    "from IPython.display import HTML\n",
    "HTML(\"\"\"\n",
    "    <video  width = \"640\" height = \"300\" alt=\"test\" controls>\n",
    "        <source src=\"multi_armed_bandit.webm\" type=\"video/mp4\">\n",
    "    </video>\n",
    "\"\"\")"
   ]
  },
  {
   "cell_type": "markdown",
   "metadata": {},
   "source": [
    "Identifying a strategy to maximize returns over the long run can involve making sacrifices in the short term. If you have many rounds to play or several time steps at which you can take actions, it may be better to explore."
   ]
  },
  {
   "cell_type": "markdown",
   "metadata": {},
   "source": [
    "##  Formal Defintion"
   ]
  },
  {
   "cell_type": "markdown",
   "metadata": {},
   "source": [
    "$\\mathcal{A}$ is a set of actions(or arms) <br>\n",
    "$\\mathcal{R}^a(r) = \\mathbb{P}[R =r|A =a]$ is an unknown probability distribution over rewards for each arm <br>"
   ]
  },
  {
   "cell_type": "markdown",
   "metadata": {},
   "source": [
    "At each time $t$ , the agent selects an action $A_t \\in \\mathcal{A}$ <br>\n",
    "The environment generates a reward $R_t \\sim \\mathcal{R}^{A_t}$"
   ]
  },
  {
   "cell_type": "markdown",
   "metadata": {},
   "source": [
    "The goal is to maximize the cumulative reward $\\sum_{\\tau=1}^{t} R_{\\tau}$"
   ]
  },
  {
   "cell_type": "markdown",
   "metadata": {},
   "source": [
    "### Regret Minimization"
   ]
  },
  {
   "cell_type": "markdown",
   "metadata": {},
   "source": [
    "The **action value** is the mean reward from taking an action $q(a) = \\mathbb{E}[R|A=a]$ <br>\n",
    "The optimal value $v_*$ is $v_* = q(a^*) = \\max_{a \\in \\mathcal{A}}(q(a))$"
   ]
  },
  {
   "cell_type": "markdown",
   "metadata": {},
   "source": [
    "Regret is how much worse than $v_*$ we do. It is the opportunity loss for one step<br>\n",
    "$$I_t = \\mathbb{E}[v_* - q(A_t)]$$"
   ]
  },
  {
   "cell_type": "markdown",
   "metadata": {},
   "source": [
    "Total regret is the total opportunity loss <br>\n",
    "$$L_t = \\mathbb{E}[\\sum_{\\tau=1}^{t} v_* - q(A_\\tau)]$$"
   ]
  },
  {
   "cell_type": "markdown",
   "metadata": {},
   "source": [
    "Maximizing cumulative reward $ \\equiv $ Minimizing Total Regret"
   ]
  },
  {
   "cell_type": "markdown",
   "metadata": {},
   "source": [
    "**Theoretical analysis** of MAB algorithms are carried out within the regret minimization framework rather than the reward maximization framework"
   ]
  },
  {
   "cell_type": "markdown",
   "metadata": {},
   "source": [
    "### A good algorithm"
   ]
  },
  {
   "cell_type": "markdown",
   "metadata": {},
   "source": [
    "The **count** $N_t(a)$ is the expected number of selections for action $a$ <br>\n",
    "The **gap** $\\Delta_a$ is the difference in value between action a and optimal action $a^*$\n",
    "$$\\Delta_a = v_* - q(a)$$"
   ]
  },
  {
   "cell_type": "markdown",
   "metadata": {},
   "source": [
    "Regret is a function of gaps and counts<br>\n",
    "$$L_t = \\mathbb{E} [\\sum_{\\tau=1}^{t} v_* - q(A_{\\tau})]$$ <br>\n",
    "$$    = \\sum _{a \\in \\mathcal{A}} \\mathbb{E}[N_t(a)](v_* - q(a))$$ <br>\n",
    "$$    = \\sum_{a \\in \\mathcal{A}} \\mathbb{E} [N_t(a)] \\Delta_a$$"
   ]
  },
  {
   "cell_type": "markdown",
   "metadata": {},
   "source": [
    "During exploration, a good algorithm will pick an action with a large gap few times, while it picks actions with small gaps more frequently"
   ]
  },
  {
   "cell_type": "markdown",
   "metadata": {},
   "source": [
    "## Algorithms"
   ]
  },
  {
   "cell_type": "markdown",
   "metadata": {},
   "source": [
    "The most commonly used algorithms to solve the Multi Armed Bandit Problem include: <br>\n",
    "1) Epsilon Greedy <br>\n",
    "2) Optimistic Initial Values <br>\n",
    "3) Upper Confidence Bound (UCB1) <br>\n",
    "4) Thompson Sampling (Bayesian Bandit)"
   ]
  },
  {
   "cell_type": "markdown",
   "metadata": {},
   "source": [
    "## Experimental Set Up"
   ]
  },
  {
   "cell_type": "markdown",
   "metadata": {},
   "source": [
    "Consider an N armed bandit (N = 4) where each arm has a different intrinsic probability ($\\theta$) of yielding a reward. The reward is binary (reward = 1 , no reward = 0). We want to identify the arm that yields the highest reward"
   ]
  },
  {
   "cell_type": "code",
   "execution_count": 2,
   "metadata": {},
   "outputs": [
    {
     "data": {
      "text/html": [
       "<div>\n",
       "<style scoped>\n",
       "    .dataframe tbody tr th:only-of-type {\n",
       "        vertical-align: middle;\n",
       "    }\n",
       "\n",
       "    .dataframe tbody tr th {\n",
       "        vertical-align: top;\n",
       "    }\n",
       "\n",
       "    .dataframe thead th {\n",
       "        text-align: right;\n",
       "    }\n",
       "</style>\n",
       "<table border=\"1\" class=\"dataframe\">\n",
       "  <thead>\n",
       "    <tr style=\"text-align: right;\">\n",
       "      <th></th>\n",
       "      <th>Arm 1</th>\n",
       "      <th>Arm 2</th>\n",
       "      <th>Arm 3</th>\n",
       "      <th>Arm 4</th>\n",
       "    </tr>\n",
       "  </thead>\n",
       "  <tbody>\n",
       "    <tr>\n",
       "      <th>Reward Probability</th>\n",
       "      <td>0.2</td>\n",
       "      <td>0.4</td>\n",
       "      <td>0.6</td>\n",
       "      <td>0.8</td>\n",
       "    </tr>\n",
       "  </tbody>\n",
       "</table>\n",
       "</div>"
      ],
      "text/plain": [
       "                    Arm 1  Arm 2  Arm 3  Arm 4\n",
       "Reward Probability    0.2    0.4    0.6    0.8"
      ]
     },
     "execution_count": 2,
     "metadata": {},
     "output_type": "execute_result"
    }
   ],
   "source": [
    "import pandas as pd\n",
    "df = pd.DataFrame({'Arm 1': [0.2],'Arm 2':[0.4],'Arm 3': 0.6, 'Arm 4': 0.8})\n",
    "df.index = ['Reward Probability']\n",
    "df"
   ]
  },
  {
   "cell_type": "markdown",
   "metadata": {},
   "source": [
    "We will estimate the reward probability(distribution)of each bandit by keeping a running average of the reward using the formula: <br>\n",
    "$$ q_{k+1} = q_k + \\frac{1}{k}[R_k - q_k] $$"
   ]
  },
  {
   "cell_type": "code",
   "execution_count": 3,
   "metadata": {},
   "outputs": [],
   "source": [
    "class Bandit:\n",
    "    def __init__(self,p):\n",
    "        self.p = p #intrinsic reward probability of bandit\n",
    "        self.p_estimate = 0\n",
    "        self.N = 0 #number of trails\n",
    "        \n",
    "    def pull(self):\n",
    "        return np.random.random() < self.p\n",
    "    \n",
    "    def update(self,x):\n",
    "        self.N += 1\n",
    "        self.p_estimate = self.p_estimate + 1/self.N*(x - self.p_estimate)\n",
    "        "
   ]
  },
  {
   "cell_type": "markdown",
   "metadata": {},
   "source": [
    "Let the series of rewards observed be [0,0,0,1,1]"
   ]
  },
  {
   "cell_type": "code",
   "execution_count": 4,
   "metadata": {},
   "outputs": [],
   "source": [
    "B = Bandit(0.4)"
   ]
  },
  {
   "cell_type": "code",
   "execution_count": 5,
   "metadata": {},
   "outputs": [
    {
     "name": "stdout",
     "output_type": "stream",
     "text": [
      "0.0\n",
      "0.0\n",
      "0.0\n",
      "0.25\n",
      "0.4\n"
     ]
    }
   ],
   "source": [
    "rewards = [0,0,0,1,1]\n",
    "for r in rewards:\n",
    "    B.update(r)\n",
    "    print(B.p_estimate)"
   ]
  },
  {
   "cell_type": "markdown",
   "metadata": {},
   "source": [
    "### 1) Epsilon Greedy"
   ]
  },
  {
   "cell_type": "markdown",
   "metadata": {},
   "source": [
    "In a greedy strategy , we always select the best action given the current estimate of the action values. \n",
    "$$ A_t = argmax_a Q_t(a)$$"
   ]
  },
  {
   "cell_type": "markdown",
   "metadata": {},
   "source": [
    "In an $\\epsilon$ greedy strategy, with a small probability $\\epsilon$ we choose an action randomly, while with probability $1 - \\epsilon$ , we act greedily"
   ]
  },
  {
   "cell_type": "code",
   "execution_count": 6,
   "metadata": {},
   "outputs": [],
   "source": [
    "import numpy as np\n",
    "def epsilon_greedy(bandits,eps,t):\n",
    "    if np.random.random() < eps:\n",
    "        return np.random.randint(len(bandits)),'explore' #explore\n",
    "    else:\n",
    "        return np.argmax([b.p_estimate for b in bandits]),'exploit' #exploit\n",
    "    "
   ]
  },
  {
   "cell_type": "markdown",
   "metadata": {},
   "source": [
    "If there are 2 bandits with a 90% and 80% win rate. Using $\\epsilon$ greedy, the expected win rate will be\n",
    "$$E(R) = \\epsilon(\\frac{0.8+0.9}{2}) + (1 - \\epsilon) 0.9 $$"
   ]
  },
  {
   "cell_type": "markdown",
   "metadata": {},
   "source": [
    "This suggests that once, the action values have been estimated with some degree of confidence,$\\epsilon$ should be decayed to smaller values"
   ]
  },
  {
   "cell_type": "markdown",
   "metadata": {
    "scrolled": true
   },
   "source": [
    "Below, we evaluate how effective epsilon greedy is in solving the 4-armed Bandit problem over **N** trials. We will evaluate<br>\n",
    "a) Total reward earned over N trials <br>\n",
    "b) No of times optimal action was picked <br>\n",
    "c) No of times the agent chooses to exploit <br>\n",
    "d) No of times the agent chooses to explore"
   ]
  },
  {
   "cell_type": "code",
   "execution_count": 7,
   "metadata": {},
   "outputs": [],
   "source": [
    "import matplotlib.pyplot as plt\n",
    "import seaborn as sns\n",
    "def experiment(N=1000,eps = 0.01,bandit_probs = [0.2,0.4,0.6,0.8]):\n",
    "    bandits = [Bandit(p) for p in bandit_probs]\n",
    "    \n",
    "    rewards = np.zeros(N)\n",
    "    explore_exploit_counter = {'explore':0,'exploit':0}\n",
    "    num_optimal = 0\n",
    "    optimal_action = np.argmax([b.p for b in bandits])\n",
    "    \n",
    "    \n",
    "    #Carry out N trials\n",
    "    \n",
    "    for i in range(N):\n",
    "        action,explore_flag = epsilon_greedy(bandits,eps,i)\n",
    "        explore_exploit_counter[explore_flag] += 1\n",
    "        if action == optimal_action:\n",
    "            num_optimal+=1\n",
    "            \n",
    "        #perform chosen action to receive reward\n",
    "        r = bandits[action].pull()\n",
    "        #Add to rewards log\n",
    "        rewards[i] = r\n",
    "        #Update reward estimate for bandit\n",
    "        bandits[action].update(r)\n",
    "        \n",
    "    ##Print rewards estimated by agent\n",
    "    print(f\"Epsilon:{eps}\")\n",
    "    for j in range(len(bandits)):\n",
    "        print(f\"Mean estimated reward for Bandit {j}:{bandits[j].p_estimate}\")\n",
    "    \n",
    "    print(f\"Total reward earned over {N} trails: {sum(rewards)}\")\n",
    "    print(f\"Overall win rate:{sum(rewards)/N}\")\n",
    "    print(f\"Number of times explored: {explore_exploit_counter['explore']}({explore_exploit_counter['explore']/N*100}%)\")\n",
    "    print(f\"Number of times exploited: {explore_exploit_counter['exploit']}({explore_exploit_counter['exploit']/N*100}%)\")\n",
    "    print(f\"No of times optimal bandit selected: {num_optimal} \\n\")\n",
    "    \n",
    "    \n",
    "    ##Plot results\n",
    "    cumulative_rewards= np.cumsum(rewards)\n",
    "    win_rate = cumulative_rewards/(np.arange(N)+1)\n",
    "    plt.figure()\n",
    "    plt.title(\"Epsilon =\"+ str(eps))\n",
    "    sns.lineplot(np.arange(N),win_rate)\n",
    "    sns.lineplot(np.arange(N),np.max(bandit_probs))\n",
    "    return(win_rate)\n",
    "    "
   ]
  },
  {
   "cell_type": "code",
   "execution_count": 8,
   "metadata": {},
   "outputs": [
    {
     "name": "stdout",
     "output_type": "stream",
     "text": [
      "Epsilon:0.1\n",
      "Mean estimated reward for Bandit 0:0.2430555555555556\n",
      "Mean estimated reward for Bandit 1:0.4448979591836734\n",
      "Mean estimated reward for Bandit 2:0.6144067796610168\n",
      "Mean estimated reward for Bandit 3:0.7933051673708155\n",
      "Total reward earned over 10000 trails: 7647.0\n",
      "Overall win rate:0.7647\n",
      "Number of times explored: 995(9.950000000000001%)\n",
      "Number of times exploited: 9005(90.05%)\n",
      "No of times optimal bandit selected: 9231 \n",
      "\n"
     ]
    },
    {
     "data": {
      "image/png": "[encoded data removed]",
      "text/plain": [
       "<Figure size 432x288 with 1 Axes>"
      ]
     },
     "metadata": {},
     "output_type": "display_data"
    }
   ],
   "source": [
    "_ = experiment(N =10000,eps=0.1,bandit_probs = [0.2,0.4,0.6,0.8])"
   ]
  },
  {
   "cell_type": "markdown",
   "metadata": {},
   "source": [
    "#### Comparing Epsilons"
   ]
  },
  {
   "cell_type": "code",
   "execution_count": 9,
   "metadata": {},
   "outputs": [],
   "source": [
    "epsilons = [0.1,0.05,0.01,0.001]\n",
    "bandit_probs =  [0.2,0.4,0.6,0.8]\n",
    "N =10000"
   ]
  },
  {
   "cell_type": "code",
   "execution_count": 10,
   "metadata": {},
   "outputs": [
    {
     "name": "stdout",
     "output_type": "stream",
     "text": [
      "Epsilon:0.1\n",
      "Mean estimated reward for Bandit 0:0.1968503937007874\n",
      "Mean estimated reward for Bandit 1:0.4107142857142858\n",
      "Mean estimated reward for Bandit 2:0.6374999999999998\n",
      "Mean estimated reward for Bandit 3:0.7968110321051481\n",
      "Total reward earned over 10000 trails: 7691.0\n",
      "Overall win rate:0.7691\n",
      "Number of times explored: 957(9.569999999999999%)\n",
      "Number of times exploited: 9043(90.42999999999999%)\n",
      "No of times optimal bandit selected: 9282 \n",
      "\n",
      "Epsilon:0.05\n",
      "Mean estimated reward for Bandit 0:0.214765100671141\n",
      "Mean estimated reward for Bandit 1:0.45522388059701474\n",
      "Mean estimated reward for Bandit 2:0.6148148148148147\n",
      "Mean estimated reward for Bandit 3:0.8055729492798991\n",
      "Total reward earned over 10000 trails: 7895.0\n",
      "Overall win rate:0.7895\n",
      "Number of times explored: 517(5.17%)\n",
      "Number of times exploited: 9483(94.83%)\n",
      "No of times optimal bandit selected: 9582 \n",
      "\n",
      "Epsilon:0.01\n",
      "Mean estimated reward for Bandit 0:0.20161290322580647\n",
      "Mean estimated reward for Bandit 1:0.32432432432432445\n",
      "Mean estimated reward for Bandit 2:0.6032064128256509\n",
      "Mean estimated reward for Bandit 3:0.799957003117272\n",
      "Total reward earned over 10000 trails: 7792.0\n",
      "Overall win rate:0.7792\n",
      "Number of times explored: 105(1.05%)\n",
      "Number of times exploited: 9895(98.95%)\n",
      "No of times optimal bandit selected: 9303 \n",
      "\n",
      "Epsilon:0.001\n",
      "Mean estimated reward for Bandit 0:0.19725190839694656\n",
      "Mean estimated reward for Bandit 1:0.6666666666666666\n",
      "Mean estimated reward for Bandit 2:0.2\n",
      "Mean estimated reward for Bandit 3:0.8036325740658025\n",
      "Total reward earned over 10000 trails: 6047.0\n",
      "Overall win rate:0.6047\n",
      "Number of times explored: 12(0.12%)\n",
      "Number of times exploited: 9988(99.88%)\n",
      "No of times optimal bandit selected: 6717 \n",
      "\n"
     ]
    },
    {
     "data": {
      "image/png": "[encoded data removed]",
      "text/plain": [
       "<Figure size 432x288 with 1 Axes>"
      ]
     },
     "metadata": {},
     "output_type": "display_data"
    },
    {
     "data": {
      "image/png": "[encoded data removed]",
      "text/plain": [
       "<Figure size 432x288 with 1 Axes>"
      ]
     },
     "metadata": {},
     "output_type": "display_data"
    },
    {
     "data": {
      "image/png": "[encoded data removed]",
      "text/plain": [
       "<Figure size 432x288 with 1 Axes>"
      ]
     },
     "metadata": {},
     "output_type": "display_data"
    },
    {
     "data": {
      "image/png": "[encoded data removed]",
      "text/plain": [
       "<Figure size 432x288 with 1 Axes>"
      ]
     },
     "metadata": {},
     "output_type": "display_data"
    }
   ],
   "source": [
    "win_rates = [np.arange(10000)] # Add column for time step\n",
    "for eps in epsilons:\n",
    "    win_rate =  experiment(N = N,eps=eps,bandit_probs = bandit_probs )\n",
    "    win_rates.append(win_rate)\n",
    "    "
   ]
  },
  {
   "cell_type": "code",
   "execution_count": 11,
   "metadata": {},
   "outputs": [],
   "source": [
    "df = pd.DataFrame(win_rates).T"
   ]
  },
  {
   "cell_type": "code",
   "execution_count": 12,
   "metadata": {},
   "outputs": [],
   "source": [
    "df.columns = ['Time_Step'] + ['eps' + str(eps) for eps in epsilons] \n",
    "df['Upper Bound'] = np.ones(N)* np.max(bandit_probs)"
   ]
  },
  {
   "cell_type": "markdown",
   "metadata": {},
   "source": [
    "A comparison between various possible values of $\\epsilon$ are shown below"
   ]
  },
  {
   "cell_type": "code",
   "execution_count": 13,
   "metadata": {},
   "outputs": [
    {
     "data": {
      "text/plain": [
       "<matplotlib.axes._subplots.AxesSubplot at 0x1aabe5452e8>"
      ]
     },
     "execution_count": 13,
     "metadata": {},
     "output_type": "execute_result"
    },
    {
     "data": {
      "image/png": "[encoded data removed]",
      "text/plain": [
       "<Figure size 432x288 with 1 Axes>"
      ]
     },
     "metadata": {},
     "output_type": "display_data"
    }
   ],
   "source": [
    "plt.figure()\n",
    "sns.lineplot(x='Time_Step', y='value', hue='variable', \n",
    "             data=pd.melt(df,['Time_Step']))\n"
   ]
  },
  {
   "cell_type": "markdown",
   "metadata": {},
   "source": [
    "In the above figure, using $\\epsilon = 0.1 $ seems to quickly find the optimal bandit, but the high value of $\\epsilon$ leads to unnecessary exploration. Decaying $\\epsilon$ can be a solution to this problem "
   ]
  },
  {
   "cell_type": "markdown",
   "metadata": {},
   "source": [
    "### Epsilon Greedy with Decaying Epsilon"
   ]
  },
  {
   "cell_type": "markdown",
   "metadata": {},
   "source": [
    "Consider $\\epsilon$ that decays with time as follows"
   ]
  },
  {
   "cell_type": "markdown",
   "metadata": {},
   "source": [
    "$ \\epsilon(t) = \\epsilon_0 \\alpha^t $ where $\\alpha \\in (0,1)$"
   ]
  },
  {
   "cell_type": "code",
   "execution_count": 14,
   "metadata": {},
   "outputs": [],
   "source": [
    "def epsilon_greedy_decay(bandits,eps,t):\n",
    "    eps_decayed = eps*0.99**t\n",
    "    if np.random.random() < eps_decayed:\n",
    "        return np.random.randint(len(bandits)),'explore' #explore\n",
    "    else:\n",
    "        return np.argmax([b.p_estimate for b in bandits]),'exploit' #exploit\n",
    "    "
   ]
  },
  {
   "cell_type": "code",
   "execution_count": 15,
   "metadata": {},
   "outputs": [],
   "source": [
    "import matplotlib.pyplot as plt\n",
    "import seaborn as sns\n",
    "def experiment(N=1000,eps = 0.01,bandit_probs = [0.2,0.4,0.6,0.8]):\n",
    "    bandits = [Bandit(p) for p in bandit_probs]\n",
    "    \n",
    "    rewards = np.zeros(N)\n",
    "    explore_exploit_counter = {'explore':0,'exploit':0}\n",
    "    num_optimal = 0\n",
    "    optimal_action = np.argmax([b.p for b in bandits])\n",
    "    \n",
    "    \n",
    "    #Carry out N trials\n",
    "    \n",
    "    for i in range(N):\n",
    "        action,explore_flag = epsilon_greedy_decay(bandits,eps,i)\n",
    "        explore_exploit_counter[explore_flag] += 1\n",
    "        if action == optimal_action:\n",
    "            num_optimal+=1\n",
    "            \n",
    "        #perform chosen action to receive reward\n",
    "        r = bandits[action].pull()\n",
    "        #Add to rewards log\n",
    "        rewards[i] = r\n",
    "        #Update reward estimate for bandit\n",
    "        bandits[action].update(r)\n",
    "        \n",
    "    ##Print rewards estimated by agent\n",
    "    print(f\"Epsilon:{eps}\")\n",
    "    for j in range(len(bandits)):\n",
    "        print(f\"Mean estimated reward for Bandit {j}:{bandits[j].p_estimate}\")\n",
    "    \n",
    "    print(f\"Total reward earned over {N} trails: {sum(rewards)}\")\n",
    "    print(f\"Overall win rate:{sum(rewards)/N}\")\n",
    "    print(f\"Number of times explored: {explore_exploit_counter['explore']}({explore_exploit_counter['explore']/N*100}%)\")\n",
    "    print(f\"Number of times exploited: {explore_exploit_counter['exploit']}({explore_exploit_counter['exploit']/N*100}%)\")\n",
    "    print(f\"No of times optimal bandit selected: {num_optimal} \\n\")\n",
    "    \n",
    "    \n",
    "    ##Plot results\n",
    "    cumulative_rewards= np.cumsum(rewards)\n",
    "    win_rate = cumulative_rewards/(np.arange(N)+1)\n",
    "    plt.figure()\n",
    "    plt.title(\"Epsilon =\"+ str(eps))\n",
    "    sns.lineplot(np.arange(N),win_rate)\n",
    "    sns.lineplot(np.arange(N),np.max(bandit_probs))\n",
    "    return(win_rate)\n",
    "    "
   ]
  },
  {
   "cell_type": "code",
   "execution_count": 16,
   "metadata": {},
   "outputs": [
    {
     "name": "stdout",
     "output_type": "stream",
     "text": [
      "Epsilon:0.1\n",
      "Mean estimated reward for Bandit 0:0.15384615384615385\n",
      "Mean estimated reward for Bandit 1:0.5806451612903226\n",
      "Mean estimated reward for Bandit 2:0.625\n",
      "Mean estimated reward for Bandit 3:0.8025150905432584\n",
      "Total reward earned over 10000 trails: 8007.0\n",
      "Overall win rate:0.8007\n",
      "Number of times explored: 12(0.12%)\n",
      "Number of times exploited: 9988(99.88%)\n",
      "No of times optimal bandit selected: 9940 \n",
      "\n"
     ]
    },
    {
     "data": {
      "image/png": "[encoded data removed]",
      "text/plain": [
       "<Figure size 432x288 with 1 Axes>"
      ]
     },
     "metadata": {},
     "output_type": "display_data"
    }
   ],
   "source": [
    " win_rate_eps_decayed =  experiment(N = N,eps=0.1,bandit_probs = bandit_probs )"
   ]
  },
  {
   "cell_type": "markdown",
   "metadata": {},
   "source": [
    "**Practically** an epsilon greedy algorithm when tuned well performs very well"
   ]
  },
  {
   "cell_type": "markdown",
   "metadata": {},
   "source": [
    "### 2) Optimistic Initial Values"
   ]
  },
  {
   "cell_type": "markdown",
   "metadata": {},
   "source": [
    "In this approach you set the inital win rate estimate for each bandit to a high value rather than 0. This causes the agent to try each bandit alteast once. You esentially trick the agent into exploration.\n",
    "\n",
    "However, if you are unlucky and get a 0 reward for the highest value bandit on the first few tries, the agent could end up getting locked out of taking this action."
   ]
  },
  {
   "cell_type": "code",
   "execution_count": 17,
   "metadata": {},
   "outputs": [],
   "source": [
    "class Bandit:\n",
    "    def __init__(self,p):\n",
    "        self.p = p #intrinsic reward probability of bandit\n",
    "        self.p_estimate = 0.95\n",
    "        self.N = 1 #number of trails\n",
    "        \n",
    "    def pull(self):\n",
    "        return np.random.random() < self.p\n",
    "    \n",
    "    def update(self,x):\n",
    "        self.N += 1\n",
    "        self.p_estimate = self.p_estimate + 1/self.N*(x - self.p_estimate)\n",
    "        "
   ]
  },
  {
   "cell_type": "code",
   "execution_count": 18,
   "metadata": {},
   "outputs": [],
   "source": [
    "from collections import Counter"
   ]
  },
  {
   "cell_type": "code",
   "execution_count": 19,
   "metadata": {},
   "outputs": [],
   "source": [
    "import matplotlib.pyplot as plt\n",
    "import seaborn as sns\n",
    "def experiment(N=1000,bandit_probs = [0.2,0.4,0.6,0.8]):\n",
    "    bandits = [Bandit(p) for p in bandit_probs]\n",
    "    \n",
    "    rewards = np.zeros(N)\n",
    "    action_counter = Counter()\n",
    "    num_optimal = 0\n",
    "    optimal_action = np.argmax([b.p for b in bandits])\n",
    "    \n",
    "    \n",
    "    #Carry out N trials\n",
    "    \n",
    "    for i in range(N):\n",
    "        action = np.argmax([b.p_estimate for b in bandits])\n",
    "        if action == optimal_action:\n",
    "            num_optimal+=1\n",
    "        action_counter[action]+=1\n",
    "            \n",
    "        #perform chosen action to receive reward\n",
    "        r = bandits[action].pull()\n",
    "        #Add to rewards log\n",
    "        rewards[i] = r\n",
    "        #Update reward estimate for bandit\n",
    "        bandits[action].update(r)\n",
    "        \n",
    "    ##Print rewards estimated by agent\n",
    "    \n",
    "    for j in range(len(bandits)):\n",
    "        print(f\"Mean estimated reward for Bandit {j}:{bandits[j].p_estimate}\")\n",
    "        print(f\"No of times Bandit {j} was selected: {action_counter[j]}\")\n",
    "\n",
    "    \n",
    "    print(f\"Total reward earned over {N} trails: {sum(rewards)}\")\n",
    "    print(f\"Overall win rate:{sum(rewards)/N}\")\n",
    "    print(f\"No of times optimal bandit selected: {num_optimal} \\n\")\n",
    "    \n",
    "    \n",
    "    ##Plot results\n",
    "    cumulative_rewards= np.cumsum(rewards)\n",
    "    win_rate = cumulative_rewards/(np.arange(N)+1)\n",
    "    plt.figure()\n",
    "    sns.lineplot(np.arange(N),win_rate)\n",
    "    sns.lineplot(np.arange(N),np.max(bandit_probs))\n",
    "    return(win_rate)\n",
    "    "
   ]
  },
  {
   "cell_type": "code",
   "execution_count": 20,
   "metadata": {},
   "outputs": [
    {
     "name": "stdout",
     "output_type": "stream",
     "text": [
      "Mean estimated reward for Bandit 0:0.475\n",
      "No of times Bandit 0 was selected: 1\n",
      "Mean estimated reward for Bandit 1:0.39\n",
      "No of times Bandit 1 was selected: 4\n",
      "Mean estimated reward for Bandit 2:0.6020960480240097\n",
      "No of times Bandit 2 was selected: 9994\n",
      "Mean estimated reward for Bandit 3:0.475\n",
      "No of times Bandit 3 was selected: 1\n",
      "Total reward earned over 10000 trails: 6018.0\n",
      "Overall win rate:0.6018\n",
      "No of times optimal bandit selected: 1 \n",
      "\n"
     ]
    },
    {
     "data": {
      "image/png": "[encoded data removed]",
      "text/plain": [
       "<Figure size 432x288 with 1 Axes>"
      ]
     },
     "metadata": {},
     "output_type": "display_data"
    }
   ],
   "source": [
    "_ = experiment(N=10000,bandit_probs = [0.2,0.4,0.6,0.8])"
   ]
  },
  {
   "cell_type": "markdown",
   "metadata": {},
   "source": [
    "### 3) UCB1"
   ]
  },
  {
   "cell_type": "markdown",
   "metadata": {},
   "source": [
    "This is a **frequentist approach** to being optimistic in the face of uncertainty."
   ]
  },
  {
   "cell_type": "markdown",
   "metadata": {},
   "source": [
    "#### Hoeffding Inequality"
   ]
  },
  {
   "cell_type": "markdown",
   "metadata": {},
   "source": [
    "Let $X_1$,....,$X_t$ be i.i.d random variables in $[0,1]$, and let $\\bar{X_t} = \\frac{1}{\\tau} \\sum_{\\tau=1}^t X_t$ be the sample mean. Then:\n",
    "$$ \\mathbb{P}[\\mathbb{E}[X] > \\bar{X_t} + u] \\leq e^{-2tu^2}$$"
   ]
  },
  {
   "cell_type": "markdown",
   "metadata": {},
   "source": [
    "This gives the probability that the true mean is greater than the **estimated mean + some quantity (u)** i.e.UCB, has an upper bound that decreases exponentially as the size of the sample and the square of this quantity."
   ]
  },
  {
   "cell_type": "markdown",
   "metadata": {},
   "source": [
    "Given we estimate the value of an action by averaging the rewards, this can be restated as"
   ]
  },
  {
   "cell_type": "markdown",
   "metadata": {},
   "source": [
    "$$ \\mathbb{P}[Q(a) > \\bar{Q_t}(a) + U_t(a)] \\leq e^{-2N_t(a)U_t(a)^2}$$"
   ]
  },
  {
   "cell_type": "markdown",
   "metadata": {},
   "source": [
    "We want to account for this uncertainity in the estimate of the value of an action/bandit. We do this by using the UCB estimate of the value of an action. We want to consider a high enough UCB such that the probability of the true mean being greater than this is very small(p)"
   ]
  },
  {
   "cell_type": "markdown",
   "metadata": {},
   "source": [
    "$$ e^{-2N_t(a)U_t(a)^2} = p$$"
   ]
  },
  {
   "cell_type": "markdown",
   "metadata": {},
   "source": [
    "$$U_t(a) = \\sqrt{\\frac{-log\\ p}{2 N_t(a)}} $$"
   ]
  },
  {
   "cell_type": "markdown",
   "metadata": {},
   "source": [
    "This gives the magnitude of uncertainty(referred to earlier as **some quantity (u)**)that we need to add to the estimated mean to minimize this probability."
   ]
  },
  {
   "cell_type": "markdown",
   "metadata": {},
   "source": [
    "Further, we want this probability to go to 0 as the number of samples increases. Using $p = t^{-4}$ gives"
   ]
  },
  {
   "cell_type": "markdown",
   "metadata": {},
   "source": [
    "$$U_t(a) = \\sqrt{\\frac{2log\\ t}{N_t(a)}} $$"
   ]
  },
  {
   "cell_type": "markdown",
   "metadata": {},
   "source": [
    "This leads to the UCB algorithm"
   ]
  },
  {
   "cell_type": "markdown",
   "metadata": {},
   "source": [
    "$$a_t = \\underset{a \\in \\mathcal{A}} {argmax} Q(a) + \\sqrt{\\frac{2log\\ t}{N_t(a)}} $$"
   ]
  },
  {
   "cell_type": "markdown",
   "metadata": {},
   "source": [
    "#### Intuition"
   ]
  },
  {
   "cell_type": "markdown",
   "metadata": {},
   "source": [
    "If the total number of actions taken($t$) is very large, but the number of times action $a$  has been taken is small, then the uncertainty in the action's value is very large leading to a higher UCB.\n"
   ]
  },
  {
   "cell_type": "code",
   "execution_count": 21,
   "metadata": {},
   "outputs": [],
   "source": [
    "class Bandit:\n",
    "    def __init__(self,p):\n",
    "        self.p = p #intrinsic reward probability of bandit\n",
    "        self.p_estimate = 0\n",
    "        self.N = 0 #number of trails\n",
    "        \n",
    "    def pull(self):\n",
    "        return np.random.random() < self.p\n",
    "    \n",
    "    def update(self,x):\n",
    "        self.N += 1\n",
    "        self.p_estimate = self.p_estimate + 1/self.N*(x - self.p_estimate)\n",
    "        "
   ]
  },
  {
   "cell_type": "code",
   "execution_count": 22,
   "metadata": {},
   "outputs": [],
   "source": [
    "\n",
    "def experiment(N=1000,bandit_probs = [0.2,0.4,0.6,0.8]):\n",
    "    bandits = [Bandit(p) for p in bandit_probs]\n",
    "    \n",
    "    rewards = np.zeros(N)\n",
    "    action_counter = Counter()\n",
    "    num_optimal = 0\n",
    "    optimal_action = np.argmax([b.p for b in bandits])\n",
    "    \n",
    "    \n",
    "    #Carry out N trials\n",
    "    \n",
    "    for i in range(N):\n",
    "        ucb = [bandits[j].p_estimate + np.sqrt((2*np.log(i+1))/(action_counter[j])) for j in range(len(bandits))]\n",
    "        action = np.argmax(ucb)\n",
    "        if action == optimal_action:\n",
    "            num_optimal+=1\n",
    "        action_counter[action]+=1\n",
    "            \n",
    "        #perform chosen action to receive reward\n",
    "        r = bandits[action].pull()\n",
    "        #Add to rewards log\n",
    "        rewards[i] = r\n",
    "        #Update reward estimate for bandit\n",
    "        bandits[action].update(r)\n",
    "        \n",
    "    ##Print rewards estimated by agent\n",
    "    \n",
    "    for j in range(len(bandits)):\n",
    "        print(f\"Mean estimated reward for Bandit {j}:{bandits[j].p_estimate}\")\n",
    "        print(f\"No of times Bandit {j} was selected: {action_counter[j]}\")\n",
    "\n",
    "    \n",
    "    print(f\"Total reward earned over {N} trails: {sum(rewards)}\")\n",
    "    print(f\"Overall win rate:{sum(rewards)/N}\")\n",
    "    print(f\"No of times optimal bandit selected: {num_optimal} \\n\")\n",
    "    \n",
    "    \n",
    "    ##Plot results\n",
    "    cumulative_rewards= np.cumsum(rewards)\n",
    "    win_rate = cumulative_rewards/(np.arange(N)+1)\n",
    "    plt.figure()\n",
    "    sns.lineplot(np.arange(N),win_rate)\n",
    "    sns.lineplot(np.arange(N),np.max(bandit_probs))\n",
    "    return(win_rate)\n",
    "    "
   ]
  },
  {
   "cell_type": "code",
   "execution_count": 23,
   "metadata": {},
   "outputs": [
    {
     "name": "stderr",
     "output_type": "stream",
     "text": [
      "C:\\Users\\learningmachine\\AppData\\Local\\Continuum\\anaconda3\\lib\\site-packages\\ipykernel_launcher.py:13: RuntimeWarning: invalid value encountered in double_scalars\n",
      "  del sys.path[0]\n",
      "C:\\Users\\learningmachine\\AppData\\Local\\Continuum\\anaconda3\\lib\\site-packages\\ipykernel_launcher.py:13: RuntimeWarning: divide by zero encountered in double_scalars\n",
      "  del sys.path[0]\n"
     ]
    },
    {
     "name": "stdout",
     "output_type": "stream",
     "text": [
      "Mean estimated reward for Bandit 0:0.13513513513513514\n",
      "No of times Bandit 0 was selected: 37\n",
      "Mean estimated reward for Bandit 1:0.3181818181818183\n",
      "No of times Bandit 1 was selected: 66\n",
      "Mean estimated reward for Bandit 2:0.6129032258064517\n",
      "No of times Bandit 2 was selected: 341\n",
      "Mean estimated reward for Bandit 3:0.8027417329426516\n",
      "No of times Bandit 3 was selected: 9556\n",
      "Total reward earned over 10000 trails: 7906.0\n",
      "Overall win rate:0.7906\n",
      "No of times optimal bandit selected: 9556 \n",
      "\n"
     ]
    },
    {
     "data": {
      "image/png": "[encoded data removed]",
      "text/plain": [
       "<Figure size 432x288 with 1 Axes>"
      ]
     },
     "metadata": {},
     "output_type": "display_data"
    }
   ],
   "source": [
    "_ = experiment(N=10000,bandit_probs = [0.2,0.4,0.6,0.8])"
   ]
  },
  {
   "cell_type": "markdown",
   "metadata": {},
   "source": [
    "### 4) Bayesian Bandits "
   ]
  },
  {
   "cell_type": "markdown",
   "metadata": {},
   "source": [
    "The Bayesian method requires us to specify a belief in the rewards distribution of each bandit. When actual rewards are observed for each bandit,this prior belief is updated using the Baye's rule to get a posterior belief in the rewards distribution of each bandit"
   ]
  },
  {
   "cell_type": "markdown",
   "metadata": {},
   "source": [
    "$$\\mathbb{P}\\bigg(\\frac{\\theta}{D}\\bigg) = \\frac{\\mathbb{P}(\\theta)\\ \\mathbb{P}\\bigg(\\frac{D}{\\theta}\\bigg)}{\\mathbb{P}(D)}$$"
   ]
  },
  {
   "cell_type": "markdown",
   "metadata": {},
   "source": [
    "where: <br> $\\mathbb{P}(\\theta)$ is the prior <br>\n",
    "$\\mathbb{P}\\bigg(\\frac{D}{\\theta}\\bigg)$ is the likelihood <br>\n",
    "$\\mathbb{P}(D)$ is a normalizing factor given by $ \\int_{\\theta}\\mathbb{P}(\\theta)\\ \\mathbb{P}\\bigg(\\frac{D}{\\theta}\\bigg) d\\theta $\n"
   ]
  },
  {
   "cell_type": "markdown",
   "metadata": {},
   "source": [
    "### Example from Last Session"
   ]
  },
  {
   "cell_type": "markdown",
   "metadata": {},
   "source": [
    "There are two bags. <br> \n",
    "Bag 1: 5 white balls and 6 blue balls. <br>\n",
    "Bag 2: 3 white and 4 blue balls "
   ]
  },
  {
   "cell_type": "markdown",
   "metadata": {},
   "source": [
    "Here your prior belief is a ball can be blindly drawn from either bag.\n",
    "$$\\mathbb{P}[Bag1] = \\mathbb{P}[Bag2] == 0.5 $$"
   ]
  },
  {
   "cell_type": "markdown",
   "metadata": {},
   "source": [
    "Now we observe that the ball drawn is white.<br>\n",
    "The likelihood of a white ball being drawn if Bag 1 is selected is given by"
   ]
  },
  {
   "cell_type": "markdown",
   "metadata": {},
   "source": [
    "$$\\mathbb{P}\\bigg(\\frac{ball = white}{Bag1} \\bigg) = \\frac{5}{11}$$"
   ]
  },
  {
   "cell_type": "markdown",
   "metadata": {},
   "source": [
    "The likelihood of a white ball being drawn if Bag 12is selected is given by\n",
    "$$\\mathbb{P}\\bigg(\\frac{ball = white}{Bag2} \\bigg) = \\frac{3}{7}$$"
   ]
  },
  {
   "cell_type": "markdown",
   "metadata": {},
   "source": [
    "The posterior probability of the bag selected being Bag 1 given the ball drawn is white is given by"
   ]
  },
  {
   "cell_type": "markdown",
   "metadata": {},
   "source": [
    "$$\\mathbb{P}\\big(\\frac{Bag1}{ball=white}\\big) =  \\frac{\\mathbb{P}[Bag1] \\mathbb{P}\\bigg(\\frac{ball = white}{Bag1} \\bigg)}{\\mathbb{P}[Bag1] \\mathbb{P}\\bigg(\\frac{ball = white}{Bag1} \\bigg) + \\mathbb{P}[Bag2] \\mathbb{P}\\bigg(\\frac{ball = white}{Bag2} \\bigg)} = \\frac{\\frac{1}{2}\\times\\frac{5}{11}}{\\frac{1}{2}\\times\\frac{5}{11} + \\frac{1}{2}\\times\\frac{3}{7}} = \\frac{35}{68} $$"
   ]
  },
  {
   "cell_type": "markdown",
   "metadata": {},
   "source": [
    "This computation becomes extremely simple if a Beta distribution is used as a prior and a Bernoulli distribution is used as the likelihood function. The posterior will also be in the form of a Beta distribution because they are [conjugate distributions](https://en.wikipedia.org/wiki/Conjugate_prior)."
   ]
  },
  {
   "cell_type": "markdown",
   "metadata": {},
   "source": [
    "If the prior distribution of the reward is given by $\\beta(a=10,b=10)$"
   ]
  },
  {
   "cell_type": "code",
   "execution_count": 24,
   "metadata": {},
   "outputs": [
    {
     "data": {
      "text/plain": [
       "[<matplotlib.lines.Line2D at 0x1aabe4f21d0>]"
      ]
     },
     "execution_count": 24,
     "metadata": {},
     "output_type": "execute_result"
    },
    {
     "data": {
      "image/png": "[encoded data removed]",
      "text/plain": [
       "<Figure size 432x288 with 1 Axes>"
      ]
     },
     "metadata": {},
     "output_type": "display_data"
    }
   ],
   "source": [
    "from scipy.stats import beta\n",
    "x = np.linspace(0,1,200)\n",
    "y = beta.pdf(x,a=10,b=10)\n",
    "plt.plot(x,y)"
   ]
  },
  {
   "cell_type": "markdown",
   "metadata": {},
   "source": [
    "And a bandit gave a sequence of  N(=10) rewards comprising z(=8) ones, the posterior is also a Beta distribution given by \n",
    "$$ Beta(a+z,b+(N-z)) $$"
   ]
  },
  {
   "cell_type": "code",
   "execution_count": 25,
   "metadata": {},
   "outputs": [
    {
     "data": {
      "text/plain": [
       "[<matplotlib.lines.Line2D at 0x1aabe1b50b8>]"
      ]
     },
     "execution_count": 25,
     "metadata": {},
     "output_type": "execute_result"
    },
    {
     "data": {
      "image/png": "[encoded data removed]",
      "text/plain": [
       "<Figure size 432x288 with 1 Axes>"
      ]
     },
     "metadata": {},
     "output_type": "display_data"
    }
   ],
   "source": [
    "x = np.linspace(0,1,200)\n",
    "y = beta.pdf(x,a=10+8,b=10 + 2)\n",
    "plt.plot(x,y)\n"
   ]
  },
  {
   "cell_type": "markdown",
   "metadata": {},
   "source": [
    "Once we have a posteror reward distribution for each bandit, we will sample from them and do an argmax from the sample to select the bandit. This is called [**Thompson Sampling**](https://en.wikipedia.org/wiki/Thompson_sampling)"
   ]
  },
  {
   "cell_type": "code",
   "execution_count": 26,
   "metadata": {},
   "outputs": [],
   "source": [
    "class Bandit:\n",
    "    def __init__(self,p):\n",
    "        self.p = p #intrinsic reward probability of bandit\n",
    "        self.a = 1\n",
    "        self.b = 1\n",
    "        self.N = 0 #number of trails\n",
    "        \n",
    "    def pull(self):\n",
    "        return np.random.random() < self.p\n",
    "    \n",
    "    def sample(self):\n",
    "        return np.random.beta(self.a,self.b)\n",
    "    \n",
    "    def update(self,x):\n",
    "        self.a += x\n",
    "        self.b += 1 - x\n",
    "        self.N += 1\n",
    "        \n",
    "        "
   ]
  },
  {
   "cell_type": "code",
   "execution_count": 27,
   "metadata": {},
   "outputs": [],
   "source": [
    "def plot(bandits,trial):\n",
    "    x = np.linspace(0,1,200)\n",
    "    for b in bandits:\n",
    "        y = beta.pdf(x,b.a,b.b)\n",
    "        plt.plot(x,y,label = f\"real p:{b.p:.4f}, win rate = {b.a -1}/{b.N}\")\n",
    "    plt.title(f\"Bandit distributions after {trial} trials\")\n",
    "    plt.legend()\n",
    "    plt.show()\n",
    "        "
   ]
  },
  {
   "cell_type": "code",
   "execution_count": 28,
   "metadata": {},
   "outputs": [],
   "source": [
    "def experiment(N=10000,bandit_probs = [0.2,0.4,0.6,0.8]):\n",
    "    bandits = [Bandit(p) for p in bandit_probs]\n",
    "    plot_points = [5,10,20,50,100,200,500,1000,1500,1999,N]\n",
    "    rewards = np.zeros(N)\n",
    "    action_counter = Counter()\n",
    "    optimal_action = np.argmax([b.p for b in bandits])\n",
    "    num_optimal = 0\n",
    "        \n",
    "    for i in range(N):\n",
    "        #Thompson sampling\n",
    "        action = np.argmax([b.sample() for b in bandits])\n",
    "        action_counter[action]+=1\n",
    "        \n",
    "        if action == optimal_action:\n",
    "            num_optimal += 1\n",
    "        \n",
    "        \n",
    "        #plot posterior reward distribution\n",
    "        if i in plot_points:\n",
    "            plot(bandits,i)\n",
    "            \n",
    "        #perform actions to get reward\n",
    "        r = bandits[action].pull()\n",
    "        \n",
    "        #update rewards\n",
    "        rewards[i] = r\n",
    "        \n",
    "        #Perform Bayesian update on bandit's reward distribution\n",
    "        bandits[action].update(r)\n",
    "    \n",
    "    for j in range(len(bandits)):\n",
    "        print(f\"No of times Bandit {j} was selected: {action_counter[j]}\")\n",
    "\n",
    "    \n",
    "    print(f\"Total reward earned over {N} trails: {sum(rewards)}\")\n",
    "    print(f\"Overall win rate:{sum(rewards)/N}\")\n",
    "    print(f\"No of times optimal bandit selected: {num_optimal} \\n\")\n",
    "    \n",
    "        "
   ]
  },
  {
   "cell_type": "code",
   "execution_count": 29,
   "metadata": {},
   "outputs": [
    {
     "data": {
      "image/png": "[encoded data removed]",
      "text/plain": [
       "<Figure size 432x288 with 1 Axes>"
      ]
     },
     "metadata": {},
     "output_type": "display_data"
    },
    {
     "data": {
      "image/png": "[encoded data removed]",
      "text/plain": [
       "<Figure size 432x288 with 1 Axes>"
      ]
     },
     "metadata": {},
     "output_type": "display_data"
    },
    {
     "data": {
      "image/png": "[encoded data removed]",
      "text/plain": [
       "<Figure size 432x288 with 1 Axes>"
      ]
     },
     "metadata": {},
     "output_type": "display_data"
    },
    {
     "data": {
      "image/png": "[encoded data removed]",
      "text/plain": [
       "<Figure size 432x288 with 1 Axes>"
      ]
     },
     "metadata": {},
     "output_type": "display_data"
    },
    {
     "data": {
      "image/png": "[encoded data removed]",
      "text/plain": [
       "<Figure size 432x288 with 1 Axes>"
      ]
     },
     "metadata": {},
     "output_type": "display_data"
    },
    {
     "data": {
      "image/png": "[encoded data removed]",
      "text/plain": [
       "<Figure size 432x288 with 1 Axes>"
      ]
     },
     "metadata": {},
     "output_type": "display_data"
    },
    {
     "data": {
      "image/png": "[encoded data removed]",
      "text/plain": [
       "<Figure size 432x288 with 1 Axes>"
      ]
     },
     "metadata": {},
     "output_type": "display_data"
    },
    {
     "data": {
      "image/png": "[encoded data removed]",
      "text/plain": [
       "<Figure size 432x288 with 1 Axes>"
      ]
     },
     "metadata": {},
     "output_type": "display_data"
    },
    {
     "data": {
      "image/png": "[encoded data removed]",
      "text/plain": [
       "<Figure size 432x288 with 1 Axes>"
      ]
     },
     "metadata": {},
     "output_type": "display_data"
    },
    {
     "data": {
      "image/png": "[encoded data removed]",
      "text/plain": [
       "<Figure size 432x288 with 1 Axes>"
      ]
     },
     "metadata": {},
     "output_type": "display_data"
    },
    {
     "name": "stdout",
     "output_type": "stream",
     "text": [
      "No of times Bandit 0 was selected: 7\n",
      "No of times Bandit 1 was selected: 23\n",
      "No of times Bandit 2 was selected: 70\n",
      "No of times Bandit 3 was selected: 9900\n",
      "Total reward earned over 10000 trails: 8004.0\n",
      "Overall win rate:0.8004\n",
      "No of times optimal bandit selected: 9900 \n",
      "\n"
     ]
    }
   ],
   "source": [
    "experiment(N=10000,bandit_probs = [0.2,0.4,0.6,0.8])"
   ]
  },
  {
   "cell_type": "markdown",
   "metadata": {},
   "source": [
    "Multi Armed Bandits are a more efficient alternative to A/B tests for running experiments.By assigning incoming traffic to better performing arms sooner, the overall cost of experimentation will be lower."
   ]
  },
  {
   "cell_type": "markdown",
   "metadata": {},
   "source": [
    "**Bayesian Bandits achieves the theoretical minimum possible regret given by the Lai and Robbins lower bound.** "
   ]
  },
  {
   "cell_type": "markdown",
   "metadata": {},
   "source": [
    "## Reinforcement Learning"
   ]
  },
  {
   "cell_type": "markdown",
   "metadata": {},
   "source": [
    "![RL](RL.png)"
   ]
  },
  {
   "cell_type": "markdown",
   "metadata": {},
   "source": [
    "### Elements of an RL system"
   ]
  },
  {
   "cell_type": "markdown",
   "metadata": {},
   "source": [
    "1) **Agent** : Entity learning about the environment and making decisions. We need to specify a learning algorithm for the agent that allows it to learn a policy <br>\n",
    "2) **Environment**: Everything outside the agent, including other agents <br>\n",
    "3) **Rewards**: Numerical quanitities that represent feedback from the environment that an agent tries to maximize <br>\n",
    "    - Goal reward representation: 1 for goal, 0 otherwise\n",
    "    - Action penalty representation: -1 for not goal, 0 once goal is reached\n",
    "4) **State**: A representation of the environment. At time step $t$,the agent is in state $S_t \\in \\mathcal{S}$ where $\\mathcal{S}$ is the set of all possible states <br>\n",
    "5) **Action**: At time step $t$, an agent takes an action $A_t \\in \\mathcal{A}(S_t)$ where $\\mathcal{A}(S_t)$ is the set of actions available in state $S_t$ <br>\n",
    "6) **Policy**: A policy tells the agent what action to take in a given state. $\\pi(a|S$)\n"
   ]
  },
  {
   "cell_type": "markdown",
   "metadata": {},
   "source": [
    "A policy can be deterministic i.e. there is one action that is deterministically selected in a given state $\\pi(s)=a$,\n",
    "or   stochastic i.e. the policy maps a state onto a set of probabilties for taking each action. $\\mathbb{P}[a^i|s] < 1$  subject to $ \\sum_i \\mathbb{P}[a^i|s] =1$"
   ]
  },
  {
   "cell_type": "markdown",
   "metadata": {},
   "source": [
    "### Markov Decision Process"
   ]
  },
  {
   "cell_type": "markdown",
   "metadata": {},
   "source": [
    "In an MDP, the environment is completely characterized by the **transition dynamics equation** $$p(s',r|s,a)$$\n",
    "That is, the probability of each possible value for $s'$ and $r$ depends only on the immediately preceding state and action, $s$ and $a$, and, given them, not at all on earlier states and actions.\n",
    "\n",
    "**The state must include information about all aspects of the past agent–environment interaction that make a difference for the future. If it does, then the state is said to have the *Markov property***\n",
    "\n",
    "If the transtion dynamics equation is fully known by the agent, it means an optimal policy can be computed without interacting with the environment. This is **planning**. Some kind of search algorithm can be used here.<br>\n",
    "\n",
    "When the environment is not fully known, the agent has to learn by interacting with the environment. i.e. **learning**. If an agent constructs a model of the environment , it is called **model based RL**, else it is called **model free RL**.\n",
    "\n",
    "If you are contructing a self driving car, learning from real experience can be too expensive so you want to build a model of then environment which you can query for information to make decisions."
   ]
  },
  {
   "cell_type": "markdown",
   "metadata": {},
   "source": [
    "When an agent in state $S_t$ takes an action $A_t$ as prescribed by a policy $\\pi$, it transitions to a state $S_{t+1}$ and receives a reward $R_{t+1}$. The Agent interacting with the **MDP** environment thus gives rise to a sequence or trajectory\n",
    "\n",
    "$$S_0,A_0,R_1,S_1,A_1,R_2,S_2,...$$"
   ]
  },
  {
   "cell_type": "markdown",
   "metadata": {},
   "source": [
    "|  Multi Armed Bandit               |Markov Decision Process                 |\n",
    "|-----------------------------------|----------------------------------------|\n",
    "|Maximize immediate reward          |Maximize long term reward               |\n",
    "|Reward distribution is stationary  |Reward distribution is non-stationary   |\n",
    "|One-step decision making problem   |Sequential decision making problem      |"
   ]
  },
  {
   "cell_type": "markdown",
   "metadata": {},
   "source": [
    "Long term reward or return is formally defined as the discounted sum of future rewards."
   ]
  },
  {
   "cell_type": "markdown",
   "metadata": {},
   "source": [
    "$$G_t = R_{t+1} + \\gamma R_{t+2} + \\gamma R_{t+3} +... = \\sum_{k=0}^{\\infty} \\gamma^k R_{t+k+1} $$"
   ]
  },
  {
   "cell_type": "markdown",
   "metadata": {},
   "source": [
    "$$ = R_{t+1} + \\gamma G_{t+1} $$"
   ]
  },
  {
   "cell_type": "markdown",
   "metadata": {},
   "source": [
    "The **State - Value function** of a state $s$ under a policy $\\pi$,is the expected return from following policy $\\pi$ when starting in state $s$\n",
    "$$v_{\\pi}(s) \\doteq \\mathbb{E}_{\\pi}[G_t | S_t =s]  $$"
   ]
  },
  {
   "cell_type": "markdown",
   "metadata": {},
   "source": [
    "The **Action-Value function** is the value of taking action $a$ in state $s$ under policy $\\pi$"
   ]
  },
  {
   "cell_type": "markdown",
   "metadata": {},
   "source": [
    "$$q_{\\pi}(s,a) \\doteq \\mathbb{E}_{\\pi}[G_t| S_t =s ,A_t=a] $$"
   ]
  },
  {
   "cell_type": "markdown",
   "metadata": {},
   "source": [
    "**The Bellman expectation equation for the state value function** follows naturally from the above defintion of the state value function."
   ]
  },
  {
   "cell_type": "markdown",
   "metadata": {},
   "source": [
    "$$v_{\\pi}(s) \\doteq \\mathbb{E}[G_t | S_t =s]  $$ <br>\n",
    "$$ = \\mathbb{E}_{\\pi}[R_{t+1} + \\gamma G_{t+1} | S_t =s]  $$ <br>\n",
    "$$ = \\mathbb{E}_{\\pi}[R_{t+1}|S_t = s] + \\gamma \\mathbb{E}_{\\pi}[G_{t+1}|S_{t+1} = s'] $$  <br>\n",
    "$$ \\sum_{a} \\pi(a|s) \\sum_{s',r}  p(s',r|s,a) [r + \\gamma v_{\\pi}(s')] $$"
   ]
  },
  {
   "cell_type": "markdown",
   "metadata": {},
   "source": [
    "This is easily understood from the backup diagram shown below."
   ]
  },
  {
   "cell_type": "markdown",
   "metadata": {},
   "source": [
    "![backup](backup.png)"
   ]
  },
  {
   "cell_type": "markdown",
   "metadata": {},
   "source": [
    "The value of a state $s$ is obtained by considering all possible paths to all possible successor states , and weighting the rewards obtained and value of these successor states by the probabilities of taking each path."
   ]
  },
  {
   "cell_type": "markdown",
   "metadata": {},
   "source": [
    "**The Bellman expectation equation for the action value function** is similarly given by"
   ]
  },
  {
   "cell_type": "markdown",
   "metadata": {},
   "source": [
    "$$ q_{\\pi}(s,a) = \\sum_{s',r} p(s',r|s,a)[r + \\gamma \\sum_{a'} \\pi(a'|s')q_{\\pi}(s',a')] $$"
   ]
  },
  {
   "cell_type": "markdown",
   "metadata": {},
   "source": [
    "**The optimal state value function** $v_*(s)$ is the maximum value function over all policies"
   ]
  },
  {
   "cell_type": "markdown",
   "metadata": {},
   "source": [
    "$$v_*(s) = \\underset{\\pi}max\\ v_{\\pi}(s) $$"
   ]
  },
  {
   "cell_type": "markdown",
   "metadata": {},
   "source": [
    "**The optimal action-value function** $q_*(s,a)$ is the maximum action-value function over all policies\n",
    "\n",
    "$$q_*(s,a) = \\underset{\\pi}max\\ q_{\\pi}(s,a) $$"
   ]
  },
  {
   "cell_type": "markdown",
   "metadata": {},
   "source": [
    "### Optimal Policy"
   ]
  },
  {
   "cell_type": "markdown",
   "metadata": {},
   "source": [
    "**Theorem** <br>\n",
    "For any MDP <br>\n",
    "- There exists an optimal policy $\\pi_*$, that is better than or equal to all other policies, $\\pi_* \\ge \\pi, \\forall \\pi $ \n",
    "- All optimal policies achieve the optimal value function $v_{\\pi_*} = v_*(s)$\n",
    "- All optimal policies achieve optimal action-value function, $q_{\\pi_*}(s,a) = q_*(s,a)$\n"
   ]
  },
  {
   "cell_type": "markdown",
   "metadata": {},
   "source": [
    "An optimal policy can be found by maximizing over the optimal value function\n",
    "$$\\pi_*(s) = \\underset{a} \\arg\\max q_*(s,a)$$"
   ]
  },
  {
   "cell_type": "markdown",
   "metadata": {},
   "source": [
    "$q_*(s,a)$ is given by the **Bellman optimality equations**"
   ]
  },
  {
   "cell_type": "markdown",
   "metadata": {},
   "source": [
    "**The Bellman Optimality equation for state values** is given by"
   ]
  },
  {
   "cell_type": "markdown",
   "metadata": {},
   "source": [
    "$$ v_*(s) =  \\max_{a} \\sum_{s',r}  p(s',r|s,a) [r + \\gamma v_{\\pi}(s')] $$"
   ]
  },
  {
   "cell_type": "markdown",
   "metadata": {},
   "source": [
    "**The Bellman Optimality equation for action-values** is given by"
   ]
  },
  {
   "cell_type": "markdown",
   "metadata": {},
   "source": [
    "$$ q_{*}(s,a) = \\sum_{s',r} p(s',r|s,a)[r + \\gamma\\ \\underset{a'}max \\ \\pi(a'|s')q_{\\pi}(s',a')] $$"
   ]
  },
  {
   "cell_type": "markdown",
   "metadata": {},
   "source": [
    "**All RL Algorithms solve the Bellman Equations exactly or approxiamtely**"
   ]
  },
  {
   "cell_type": "markdown",
   "metadata": {},
   "source": [
    "![RL algo map](RL Algo map.png)"
   ]
  },
  {
   "cell_type": "markdown",
   "metadata": {},
   "source": [
    "## Policy Iteration"
   ]
  },
  {
   "cell_type": "markdown",
   "metadata": {},
   "source": [
    "Policy iteration is an algorithm to do **prediction** i.e evaluate a policy and **control** i.e selecting an optimal policy.\n",
    "It uses **iterative policy evaluation** to evaluate a policy and **policy improvement** to improve the policy."
   ]
  },
  {
   "cell_type": "markdown",
   "metadata": {},
   "source": [
    "### Iterative Policy Evaluation"
   ]
  },
  {
   "cell_type": "markdown",
   "metadata": {},
   "source": [
    "This algorithm iteratively applies the **Bellman Expectation equation for the state value function** to update the value function until it stabilizes. Each iteration of IPE updates the value of every state once to produce the new approximate value function $v_{k+1}$"
   ]
  },
  {
   "cell_type": "markdown",
   "metadata": {},
   "source": [
    "![IPE](IPE.png)"
   ]
  },
  {
   "cell_type": "markdown",
   "metadata": {},
   "source": [
    "### Policy Improvement"
   ]
  },
  {
   "cell_type": "markdown",
   "metadata": {},
   "source": [
    "A policy can be improved simply by acting greedily with respect to the value function of the current policy $v_{\\pi}$. <br>\n",
    "According to the **policy improvement theorem**, greedifying a policy(even a random policy) will produce a strict improvement unless the policy were already optimal.\n"
   ]
  },
  {
   "cell_type": "markdown",
   "metadata": {},
   "source": [
    "To improve an existing policy,act greedily with respect to a one-step lookahead for each state.\n",
    "$$\\pi'(s) \\doteq  \\underset{a}\\arg\\max q_{\\pi}(s,a) $$"
   ]
  },
  {
   "cell_type": "markdown",
   "metadata": {},
   "source": [
    "where $$ q_{\\pi}(s,a)  = \\sum_{s',r} p(s',r|s,a)[r + \\gamma \\sum_{a'} \\pi(a'|s')q_{\\pi}(s',a')] $$ "
   ]
  },
  {
   "cell_type": "markdown",
   "metadata": {},
   "source": [
    "$$ =  \\sum_{s',r} p(s',r|s,a)[r + \\gamma v_{\\pi}(s')] $$ "
   ]
  },
  {
   "cell_type": "markdown",
   "metadata": {},
   "source": [
    "Note the above is just the **Bellman Optimality Equation for State Values**"
   ]
  },
  {
   "cell_type": "markdown",
   "metadata": {},
   "source": [
    "The greedy policy takes the action that looks best in the short term - a one step lookahead."
   ]
  },
  {
   "cell_type": "markdown",
   "metadata": {},
   "source": [
    "### Algorithm"
   ]
  },
  {
   "cell_type": "markdown",
   "metadata": {},
   "source": [
    "Start with a random policy. Carry out iterative policy evaluation , now do improvement by acting greedily. Evaluate again..Repeat this process until the policy shows no improvement. By the policy improvement theorem, if this happens, we have identified the optimal policy."
   ]
  },
  {
   "cell_type": "markdown",
   "metadata": {},
   "source": [
    "![PI](policy_iteration.png)"
   ]
  },
  {
   "cell_type": "markdown",
   "metadata": {},
   "source": [
    "## RL in Cliffworld"
   ]
  },
  {
   "cell_type": "markdown",
   "metadata": {},
   "source": [
    "![](cliffworld.png)"
   ]
  },
  {
   "cell_type": "code",
   "execution_count": 30,
   "metadata": {},
   "outputs": [],
   "source": [
    "import numpy as np\n",
    "import pandas as pd\n",
    "import seaborn as sns\n",
    "class Cliff:\n",
    "    def __init__(self,rows,cols):\n",
    "        self.rows = rows\n",
    "        self.cols = cols\n",
    "        #the current position of the agent\n",
    "        self.current_state = (rows-1,0)\n",
    "        #The goal position\n",
    "        self.goal = (rows-1,cols-1) \n",
    "        self.gamma = None\n",
    "        \n",
    "        #Permissible actions for each state: #Up, down,left and right are all possible except for cliff and goal states.\n",
    "        actions = {} # dict of form {(row,col): action}\n",
    "        for i in range(rows):\n",
    "            for j in range(cols):\n",
    "                if not(i == rows - 1 and  j >0) :\n",
    "                    actions[(i,j)] = ['U','D','L','R']\n",
    "        #Note terminal states: goal and cliff states don't have leginitmate actions\n",
    "        self.actions = actions         \n",
    "                \n",
    "    def set_rewards(self,reward_type='goal_reward'): #reward can be action penalty or goal reward\n",
    "        # rewards will be a numpy array of dimensions rowsxcols and gives the reward for arriving in each state\n",
    "        if reward_type == 'goal_reward':\n",
    "            rewards = np.zeros((self.rows,self.cols))\n",
    "            #set reward for bottom row (cliff + 2 cells) : -100\n",
    "            rewards[self.rows-1,:] = -100\n",
    "            #set reward for start and goal positions to 0 and 1\n",
    "            rewards[self.rows-1,0] = 0\n",
    "            rewards[self.rows-1,self.cols-1] = 1\n",
    "        elif reward_type == 'action_penalty':\n",
    "            rewards = np.ones((self.rows,self.cols))*-0.1\n",
    "            #set reward for bottom row(cliff+2 cells) : -100\n",
    "            rewards[self.rows-1,:] = -100\n",
    "            #set reward for start and goal positions to 0 and 1\n",
    "            rewards[self.rows-1,0] = -0.1\n",
    "            rewards[self.rows-1,self.cols-1] = 0 \n",
    "        \n",
    "        self.rewards = rewards\n",
    "\n",
    "    def set_discount(self,gamma):\n",
    "        self.gamma = gamma\n",
    "    \n",
    "    def set_state(self,i,j):\n",
    "        self.current_state = (i,j)\n",
    "        \n",
    "    def present_state(self):\n",
    "        return self.current_state\n",
    "    \n",
    "    def is_terminal(self,s):\n",
    "        return s not in self.actions\n",
    "    \n",
    "    def move(self,action): \n",
    "        #Updates current state and returns reward\n",
    "        assert self.current_state in self.actions, \"Epsiode has terminated\"\n",
    "        \n",
    "        (i,j) = self.current_state\n",
    "        \n",
    "        if action == \"U\":\n",
    "            i += -1\n",
    "        elif action == \"D\":\n",
    "            i += 1\n",
    "        elif action == \"L\":\n",
    "            j -= 1\n",
    "        elif action == \"R\":\n",
    "            j += 1\n",
    "    \n",
    "        # If i < 0 or >= rows OR if j < 0 or j >= Cols it means agent has gone out of the grid and should be returned to its\n",
    "        #original state\n",
    "        \n",
    "        \n",
    "        if i < 0:\n",
    "            self.set_state(0,j)\n",
    "        elif i >= self.rows:\n",
    "            self.set_state(self.rows-1,j)\n",
    "        elif j < 0:\n",
    "            self.set_state(i,0)\n",
    "        elif j >= self.cols:\n",
    "            self.set_state(i,self.cols-1)\n",
    "        else:    \n",
    "            self.set_state(i,j)\n",
    "        \n",
    "        return self.rewards[self.current_state]\n",
    "    \n",
    "\n",
    "        \n",
    "    \n",
    "    def show(self):\n",
    "        df = pd.DataFrame(self.rewards)\n",
    "        sns.heatmap(df, cmap ='RdYlBu', linewidths = 0.30, annot = True) \n",
    "    \n",
    "    def all_states(self):\n",
    "        return [(i,j) for i in range(self.rows) for j in range(self.cols)]\n",
    "        \n",
    "        "
   ]
  },
  {
   "cell_type": "code",
   "execution_count": 31,
   "metadata": {},
   "outputs": [
    {
     "data": {
      "image/png": "[encoded data removed]",
      "text/plain": [
       "<Figure size 432x288 with 2 Axes>"
      ]
     },
     "metadata": {},
     "output_type": "display_data"
    }
   ],
   "source": [
    "cliff = Cliff(4,4)\n",
    "cliff.set_rewards(reward_type='goal_reward')\n",
    "cliff.set_discount(0.9)\n",
    "cliff.show()"
   ]
  },
  {
   "cell_type": "code",
   "execution_count": 32,
   "metadata": {},
   "outputs": [
    {
     "data": {
      "text/plain": [
       "[(0, 0),\n",
       " (0, 1),\n",
       " (0, 2),\n",
       " (0, 3),\n",
       " (1, 0),\n",
       " (1, 1),\n",
       " (1, 2),\n",
       " (1, 3),\n",
       " (2, 0),\n",
       " (2, 1),\n",
       " (2, 2),\n",
       " (2, 3),\n",
       " (3, 0),\n",
       " (3, 1),\n",
       " (3, 2),\n",
       " (3, 3)]"
      ]
     },
     "execution_count": 32,
     "metadata": {},
     "output_type": "execute_result"
    }
   ],
   "source": [
    "cliff.all_states()"
   ]
  },
  {
   "cell_type": "markdown",
   "metadata": {},
   "source": [
    "### Policy Evaluation"
   ]
  },
  {
   "cell_type": "code",
   "execution_count": 33,
   "metadata": {},
   "outputs": [],
   "source": [
    "import random\n",
    "def create_policy(environment,policy_type='random stochastic'):\n",
    "    '''Create a random policy.\n",
    "        Inputs:\n",
    "            environmnet: An object of 'Cliff' class\n",
    "            policy_type: Can be stochastic or deterministic\n",
    "           \"stochastic\" policy assigns equal probability to each of permissible actions.\n",
    "           \"deterministic\" assigns a random permissible action to each state\n",
    "        Output:\n",
    "            A random policy\n",
    "    '''\n",
    "    env = environment\n",
    "    rows = env.rows\n",
    "    cols = env.cols\n",
    "    actions = env.actions\n",
    "    policy = {}\n",
    "    if policy_type == 'random stochastic':\n",
    "        for state in actions.keys():\n",
    "            possible_actions = actions[state]\n",
    "            n_actions = len(possible_actions)\n",
    "            policy[state] = {action:1.0/n_actions for action in possible_actions}\n",
    "    \n",
    "    \n",
    "    if policy_type == 'random deterministic':\n",
    "         for state in actions.keys():\n",
    "            possible_actions = actions[state]\n",
    "            action_taken = random.choice(possible_actions)\n",
    "            policy[state] = {action_taken:1.0}\n",
    "    \n",
    "    if policy_type == 'empty':\n",
    "         for state in actions.keys():\n",
    "            policy[state] = {}\n",
    "    \n",
    "    \n",
    "    return policy\n",
    "        \n",
    "    "
   ]
  },
  {
   "cell_type": "code",
   "execution_count": 34,
   "metadata": {},
   "outputs": [],
   "source": [
    "direction = {\"D\":\"↓\", \"U\":\"↑\",\"L\":\"←\",\"R\":\"→\"}\n",
    "def print_policy(policy,env):\n",
    "    p = np.zeros((env.rows,env.cols))\n",
    "    df = pd.DataFrame(p)\n",
    "    df.iloc[env.rows-1,1:(env.cols-1)] = 'X'\n",
    "    df.iloc[env.rows-1,env.cols-1] = 'G'\n",
    "    for state,action_dict in policy.items():\n",
    "        i,j = state\n",
    "        action = list(action_dict.keys())\n",
    "        df.iloc[i,j] = direction[action[0]]\n",
    "    return df"
   ]
  },
  {
   "cell_type": "code",
   "execution_count": 35,
   "metadata": {},
   "outputs": [
    {
     "data": {
      "text/plain": [
       "{(0, 0): {'U': 0.25, 'D': 0.25, 'L': 0.25, 'R': 0.25},\n",
       " (0, 1): {'U': 0.25, 'D': 0.25, 'L': 0.25, 'R': 0.25},\n",
       " (0, 2): {'U': 0.25, 'D': 0.25, 'L': 0.25, 'R': 0.25},\n",
       " (0, 3): {'U': 0.25, 'D': 0.25, 'L': 0.25, 'R': 0.25},\n",
       " (1, 0): {'U': 0.25, 'D': 0.25, 'L': 0.25, 'R': 0.25},\n",
       " (1, 1): {'U': 0.25, 'D': 0.25, 'L': 0.25, 'R': 0.25},\n",
       " (1, 2): {'U': 0.25, 'D': 0.25, 'L': 0.25, 'R': 0.25},\n",
       " (1, 3): {'U': 0.25, 'D': 0.25, 'L': 0.25, 'R': 0.25},\n",
       " (2, 0): {'U': 0.25, 'D': 0.25, 'L': 0.25, 'R': 0.25},\n",
       " (2, 1): {'U': 0.25, 'D': 0.25, 'L': 0.25, 'R': 0.25},\n",
       " (2, 2): {'U': 0.25, 'D': 0.25, 'L': 0.25, 'R': 0.25},\n",
       " (2, 3): {'U': 0.25, 'D': 0.25, 'L': 0.25, 'R': 0.25},\n",
       " (3, 0): {'U': 0.25, 'D': 0.25, 'L': 0.25, 'R': 0.25}}"
      ]
     },
     "execution_count": 35,
     "metadata": {},
     "output_type": "execute_result"
    }
   ],
   "source": [
    "stochastic_random_policy  = create_policy(cliff,policy_type='random stochastic')\n",
    "stochastic_random_policy"
   ]
  },
  {
   "cell_type": "code",
   "execution_count": 36,
   "metadata": {},
   "outputs": [
    {
     "data": {
      "text/html": [
       "<div>\n",
       "<style scoped>\n",
       "    .dataframe tbody tr th:only-of-type {\n",
       "        vertical-align: middle;\n",
       "    }\n",
       "\n",
       "    .dataframe tbody tr th {\n",
       "        vertical-align: top;\n",
       "    }\n",
       "\n",
       "    .dataframe thead th {\n",
       "        text-align: right;\n",
       "    }\n",
       "</style>\n",
       "<table border=\"1\" class=\"dataframe\">\n",
       "  <thead>\n",
       "    <tr style=\"text-align: right;\">\n",
       "      <th></th>\n",
       "      <th>0</th>\n",
       "      <th>1</th>\n",
       "      <th>2</th>\n",
       "      <th>3</th>\n",
       "    </tr>\n",
       "  </thead>\n",
       "  <tbody>\n",
       "    <tr>\n",
       "      <th>0</th>\n",
       "      <td>↓</td>\n",
       "      <td>↓</td>\n",
       "      <td>→</td>\n",
       "      <td>↓</td>\n",
       "    </tr>\n",
       "    <tr>\n",
       "      <th>1</th>\n",
       "      <td>↓</td>\n",
       "      <td>↓</td>\n",
       "      <td>↑</td>\n",
       "      <td>←</td>\n",
       "    </tr>\n",
       "    <tr>\n",
       "      <th>2</th>\n",
       "      <td>↓</td>\n",
       "      <td>↓</td>\n",
       "      <td>↓</td>\n",
       "      <td>←</td>\n",
       "    </tr>\n",
       "    <tr>\n",
       "      <th>3</th>\n",
       "      <td>↑</td>\n",
       "      <td>X</td>\n",
       "      <td>X</td>\n",
       "      <td>G</td>\n",
       "    </tr>\n",
       "  </tbody>\n",
       "</table>\n",
       "</div>"
      ],
      "text/plain": [
       "   0  1  2  3\n",
       "0  ↓  ↓  →  ↓\n",
       "1  ↓  ↓  ↑  ←\n",
       "2  ↓  ↓  ↓  ←\n",
       "3  ↑  X  X  G"
      ]
     },
     "execution_count": 36,
     "metadata": {},
     "output_type": "execute_result"
    }
   ],
   "source": [
    "deterministic_random_policy  = create_policy(cliff,policy_type='random deterministic')\n",
    "print_policy(deterministic_random_policy,cliff)"
   ]
  },
  {
   "cell_type": "code",
   "execution_count": 37,
   "metadata": {},
   "outputs": [
    {
     "data": {
      "text/html": [
       "<div>\n",
       "<style scoped>\n",
       "    .dataframe tbody tr th:only-of-type {\n",
       "        vertical-align: middle;\n",
       "    }\n",
       "\n",
       "    .dataframe tbody tr th {\n",
       "        vertical-align: top;\n",
       "    }\n",
       "\n",
       "    .dataframe thead th {\n",
       "        text-align: right;\n",
       "    }\n",
       "</style>\n",
       "<table border=\"1\" class=\"dataframe\">\n",
       "  <thead>\n",
       "    <tr style=\"text-align: right;\">\n",
       "      <th></th>\n",
       "      <th>0</th>\n",
       "      <th>1</th>\n",
       "      <th>2</th>\n",
       "      <th>3</th>\n",
       "    </tr>\n",
       "  </thead>\n",
       "  <tbody>\n",
       "    <tr>\n",
       "      <th>0</th>\n",
       "      <td>↓</td>\n",
       "      <td>↓</td>\n",
       "      <td>↓</td>\n",
       "      <td>↓</td>\n",
       "    </tr>\n",
       "    <tr>\n",
       "      <th>1</th>\n",
       "      <td>↓</td>\n",
       "      <td>↓</td>\n",
       "      <td>↓</td>\n",
       "      <td>↓</td>\n",
       "    </tr>\n",
       "    <tr>\n",
       "      <th>2</th>\n",
       "      <td>→</td>\n",
       "      <td>→</td>\n",
       "      <td>→</td>\n",
       "      <td>↓</td>\n",
       "    </tr>\n",
       "    <tr>\n",
       "      <th>3</th>\n",
       "      <td>↑</td>\n",
       "      <td>X</td>\n",
       "      <td>X</td>\n",
       "      <td>G</td>\n",
       "    </tr>\n",
       "  </tbody>\n",
       "</table>\n",
       "</div>"
      ],
      "text/plain": [
       "   0  1  2  3\n",
       "0  ↓  ↓  ↓  ↓\n",
       "1  ↓  ↓  ↓  ↓\n",
       "2  →  →  →  ↓\n",
       "3  ↑  X  X  G"
      ]
     },
     "execution_count": 37,
     "metadata": {},
     "output_type": "execute_result"
    }
   ],
   "source": [
    "good_policy = {(0, 0): {'D': 1.0},\n",
    " (0, 1): {'D': 1.0},\n",
    " (0, 2): {'D': 1.0},\n",
    " (0, 3): {'D': 1.0},\n",
    " (1, 0): {'D': 1.0},\n",
    " (1, 1): {'D': 1.0},\n",
    " (1, 2): {'D': 1.0},\n",
    " (1, 3): {'D': 1.0},\n",
    " (2, 0): {'R': 1.0},\n",
    " (2, 1): {'R': 1.0},\n",
    " (2, 2): {'R': 1.0},\n",
    " (2, 3): {'D': 1.0},\n",
    " (3, 0): {'U': 1.0}}\n",
    "print_policy(good_policy,cliff)"
   ]
  },
  {
   "cell_type": "code",
   "execution_count": 38,
   "metadata": {},
   "outputs": [],
   "source": [
    "def evaluate_policy(policy,env,epsilon = 0.01):\n",
    "    '''\n",
    "    Function to evaluate a policy i.e. value function of each state when following a policy\n",
    "    Applies Bellman Expectation Equation\n",
    "    '''\n",
    "    states = env.actions.keys() # all non terminal states\n",
    "    \n",
    "    #Set value of all states to 0\n",
    "    V = np.zeros((env.rows,env.cols))\n",
    "    gamma = env.gamma\n",
    "    \n",
    "    while True:\n",
    "        delta  = 0\n",
    "        for state in states:\n",
    "            i,j = state\n",
    "            old_v = V[state]\n",
    "            new_v = 0\n",
    "            for action,pi in policy[state].items():\n",
    "                env.set_state(i,j)\n",
    "                #Move agent to get reward\n",
    "                reward = env.move(action)\n",
    "                new_v += pi *(reward+gamma*V[env.present_state()])\n",
    "                \n",
    "            V[state] = new_v\n",
    "            delta = max(delta,np.abs(old_v - V[state]))\n",
    "        if delta <epsilon:\n",
    "            break\n",
    "    return V\n",
    "                \n",
    "            \n",
    "        \n",
    "    "
   ]
  },
  {
   "cell_type": "code",
   "execution_count": 39,
   "metadata": {},
   "outputs": [
    {
     "data": {
      "text/plain": [
       "array([[-16.1818205 , -16.28305327, -14.80094325, -12.205613  ],\n",
       "       [-23.30304215, -25.12131457, -22.50823992, -15.05013879],\n",
       "       [-38.97750404, -49.5625388 , -45.0700198 , -17.13113027],\n",
       "       [-61.39832347,   0.        ,   0.        ,   0.        ]])"
      ]
     },
     "execution_count": 39,
     "metadata": {},
     "output_type": "execute_result"
    }
   ],
   "source": [
    "evaluate_policy(stochastic_random_policy,cliff)"
   ]
  },
  {
   "cell_type": "code",
   "execution_count": 40,
   "metadata": {},
   "outputs": [
    {
     "data": {
      "text/plain": [
       "array([[   0.,  -81.,    0.,    0.],\n",
       "       [   0.,  -90.,    0.,    0.],\n",
       "       [   0., -100., -100.,  -90.],\n",
       "       [   0.,    0.,    0.,    0.]])"
      ]
     },
     "execution_count": 40,
     "metadata": {},
     "output_type": "execute_result"
    }
   ],
   "source": [
    "V = evaluate_policy(deterministic_random_policy,cliff)\n",
    "V"
   ]
  },
  {
   "cell_type": "code",
   "execution_count": 41,
   "metadata": {},
   "outputs": [
    {
     "data": {
      "text/plain": [
       "array([[0.59049, 0.6561 , 0.729  , 0.81   ],\n",
       "       [0.6561 , 0.729  , 0.81   , 0.9    ],\n",
       "       [0.729  , 0.81   , 0.9    , 1.     ],\n",
       "       [0.6561 , 0.     , 0.     , 0.     ]])"
      ]
     },
     "execution_count": 41,
     "metadata": {},
     "output_type": "execute_result"
    }
   ],
   "source": [
    "evaluate_policy(good_policy,cliff)"
   ]
  },
  {
   "cell_type": "markdown",
   "metadata": {},
   "source": [
    "## Policy Improvement"
   ]
  },
  {
   "cell_type": "code",
   "execution_count": 42,
   "metadata": {},
   "outputs": [],
   "source": [
    "def improve_policy(policy,env,V):\n",
    "    ''' Function to greedily improve a given policy using the Bellman Optimality Equation\n",
    "    Inputs:\n",
    "        policy: policy to be improves\n",
    "        env: instance of the environment\n",
    "        V: State value function for the policy\n",
    "    '''\n",
    "    states = env.actions.keys() # all non terminal states\n",
    "    policy = create_policy(env,policy_type='empty')\n",
    "    gamma = env.gamma\n",
    "    for state in states:\n",
    "        i,j = state\n",
    "        action_values =[]\n",
    "        actions = env.actions[state]\n",
    "        for action in actions:\n",
    "                env.set_state(i,j)\n",
    "                #Move agent to get reward\n",
    "                reward = env.move(action)\n",
    "                v = reward+gamma*V[env.present_state()]\n",
    "                action_values.append(v)\n",
    "        \n",
    "        optimal_action = actions[np.argmax(action_values)] #Find action with maximum action value\n",
    "        policy[state][optimal_action] = 1 #Set probability of this action to 1\n",
    "    \n",
    "    return policy\n",
    "        "
   ]
  },
  {
   "cell_type": "code",
   "execution_count": 43,
   "metadata": {},
   "outputs": [],
   "source": [
    "improved_policy = improve_policy(deterministic_random_policy,cliff,V)"
   ]
  },
  {
   "cell_type": "markdown",
   "metadata": {},
   "source": [
    "So we started with the below policy"
   ]
  },
  {
   "cell_type": "code",
   "execution_count": 44,
   "metadata": {},
   "outputs": [
    {
     "data": {
      "text/html": [
       "<div>\n",
       "<style scoped>\n",
       "    .dataframe tbody tr th:only-of-type {\n",
       "        vertical-align: middle;\n",
       "    }\n",
       "\n",
       "    .dataframe tbody tr th {\n",
       "        vertical-align: top;\n",
       "    }\n",
       "\n",
       "    .dataframe thead th {\n",
       "        text-align: right;\n",
       "    }\n",
       "</style>\n",
       "<table border=\"1\" class=\"dataframe\">\n",
       "  <thead>\n",
       "    <tr style=\"text-align: right;\">\n",
       "      <th></th>\n",
       "      <th>0</th>\n",
       "      <th>1</th>\n",
       "      <th>2</th>\n",
       "      <th>3</th>\n",
       "    </tr>\n",
       "  </thead>\n",
       "  <tbody>\n",
       "    <tr>\n",
       "      <th>0</th>\n",
       "      <td>↓</td>\n",
       "      <td>↓</td>\n",
       "      <td>→</td>\n",
       "      <td>↓</td>\n",
       "    </tr>\n",
       "    <tr>\n",
       "      <th>1</th>\n",
       "      <td>↓</td>\n",
       "      <td>↓</td>\n",
       "      <td>↑</td>\n",
       "      <td>←</td>\n",
       "    </tr>\n",
       "    <tr>\n",
       "      <th>2</th>\n",
       "      <td>↓</td>\n",
       "      <td>↓</td>\n",
       "      <td>↓</td>\n",
       "      <td>←</td>\n",
       "    </tr>\n",
       "    <tr>\n",
       "      <th>3</th>\n",
       "      <td>↑</td>\n",
       "      <td>X</td>\n",
       "      <td>X</td>\n",
       "      <td>G</td>\n",
       "    </tr>\n",
       "  </tbody>\n",
       "</table>\n",
       "</div>"
      ],
      "text/plain": [
       "   0  1  2  3\n",
       "0  ↓  ↓  →  ↓\n",
       "1  ↓  ↓  ↑  ←\n",
       "2  ↓  ↓  ↓  ←\n",
       "3  ↑  X  X  G"
      ]
     },
     "execution_count": 44,
     "metadata": {},
     "output_type": "execute_result"
    }
   ],
   "source": [
    "print_policy(deterministic_random_policy,cliff)"
   ]
  },
  {
   "cell_type": "markdown",
   "metadata": {},
   "source": [
    "We evaluated the policy"
   ]
  },
  {
   "cell_type": "code",
   "execution_count": 45,
   "metadata": {},
   "outputs": [
    {
     "data": {
      "text/plain": [
       "array([[   0.,  -81.,    0.,    0.],\n",
       "       [   0.,  -90.,    0.,    0.],\n",
       "       [   0., -100., -100.,  -90.],\n",
       "       [   0.,    0.,    0.,    0.]])"
      ]
     },
     "execution_count": 45,
     "metadata": {},
     "output_type": "execute_result"
    }
   ],
   "source": [
    "V = evaluate_policy(deterministic_random_policy,cliff)\n",
    "V"
   ]
  },
  {
   "cell_type": "markdown",
   "metadata": {},
   "source": [
    "And we improved the policy"
   ]
  },
  {
   "cell_type": "code",
   "execution_count": 46,
   "metadata": {},
   "outputs": [
    {
     "data": {
      "text/html": [
       "<div>\n",
       "<style scoped>\n",
       "    .dataframe tbody tr th:only-of-type {\n",
       "        vertical-align: middle;\n",
       "    }\n",
       "\n",
       "    .dataframe tbody tr th {\n",
       "        vertical-align: top;\n",
       "    }\n",
       "\n",
       "    .dataframe thead th {\n",
       "        text-align: right;\n",
       "    }\n",
       "</style>\n",
       "<table border=\"1\" class=\"dataframe\">\n",
       "  <thead>\n",
       "    <tr style=\"text-align: right;\">\n",
       "      <th></th>\n",
       "      <th>0</th>\n",
       "      <th>1</th>\n",
       "      <th>2</th>\n",
       "      <th>3</th>\n",
       "    </tr>\n",
       "  </thead>\n",
       "  <tbody>\n",
       "    <tr>\n",
       "      <th>0</th>\n",
       "      <td>↑</td>\n",
       "      <td>←</td>\n",
       "      <td>↑</td>\n",
       "      <td>↑</td>\n",
       "    </tr>\n",
       "    <tr>\n",
       "      <th>1</th>\n",
       "      <td>↑</td>\n",
       "      <td>←</td>\n",
       "      <td>↑</td>\n",
       "      <td>↑</td>\n",
       "    </tr>\n",
       "    <tr>\n",
       "      <th>2</th>\n",
       "      <td>↑</td>\n",
       "      <td>←</td>\n",
       "      <td>↑</td>\n",
       "      <td>↓</td>\n",
       "    </tr>\n",
       "    <tr>\n",
       "      <th>3</th>\n",
       "      <td>↑</td>\n",
       "      <td>X</td>\n",
       "      <td>X</td>\n",
       "      <td>G</td>\n",
       "    </tr>\n",
       "  </tbody>\n",
       "</table>\n",
       "</div>"
      ],
      "text/plain": [
       "   0  1  2  3\n",
       "0  ↑  ←  ↑  ↑\n",
       "1  ↑  ←  ↑  ↑\n",
       "2  ↑  ←  ↑  ↓\n",
       "3  ↑  X  X  G"
      ]
     },
     "execution_count": 46,
     "metadata": {},
     "output_type": "execute_result"
    }
   ],
   "source": [
    "print_policy(improved_policy,cliff)"
   ]
  },
  {
   "cell_type": "code",
   "execution_count": 47,
   "metadata": {},
   "outputs": [
    {
     "data": {
      "text/plain": [
       "array([[0., 0., 0., 0.],\n",
       "       [0., 0., 0., 0.],\n",
       "       [0., 0., 0., 1.],\n",
       "       [0., 0., 0., 0.]])"
      ]
     },
     "execution_count": 47,
     "metadata": {},
     "output_type": "execute_result"
    }
   ],
   "source": [
    "evaluate_policy(improved_policy,cliff)"
   ]
  },
  {
   "cell_type": "markdown",
   "metadata": {},
   "source": [
    "## Policy Iteration"
   ]
  },
  {
   "cell_type": "markdown",
   "metadata": {},
   "source": [
    "The polcy iteration algorithm simply alternates between policy evaluation and policy improvement until a stable policy is found"
   ]
  },
  {
   "cell_type": "code",
   "execution_count": 48,
   "metadata": {},
   "outputs": [],
   "source": [
    "def policy_iteration(env):\n",
    "    '''\n",
    "    Identify the optimal policy for the given environment\n",
    "    '''\n",
    "    history = []\n",
    "    policy = create_policy(env,policy_type='random deterministic') \n",
    "    while True:\n",
    "        history.append(print_policy(policy,cliff))\n",
    "        #Carry out policy evaluation\n",
    "        V = evaluate_policy(policy,env,epsilon = 0.01)\n",
    "        \n",
    "        #Carry out policy improvement\n",
    "        new_policy = improve_policy(policy,env,V)\n",
    "        \n",
    "        if policy == new_policy:#if polcy is stable stop\n",
    "            break\n",
    "        \n",
    "        policy = new_policy\n",
    "        \n",
    "    return (policy,V,history)\n",
    "        "
   ]
  },
  {
   "cell_type": "markdown",
   "metadata": {},
   "source": [
    "The optimal policy has been learnt as shown below"
   ]
  },
  {
   "cell_type": "code",
   "execution_count": 49,
   "metadata": {},
   "outputs": [
    {
     "data": {
      "text/html": [
       "<div>\n",
       "<style scoped>\n",
       "    .dataframe tbody tr th:only-of-type {\n",
       "        vertical-align: middle;\n",
       "    }\n",
       "\n",
       "    .dataframe tbody tr th {\n",
       "        vertical-align: top;\n",
       "    }\n",
       "\n",
       "    .dataframe thead th {\n",
       "        text-align: right;\n",
       "    }\n",
       "</style>\n",
       "<table border=\"1\" class=\"dataframe\">\n",
       "  <thead>\n",
       "    <tr style=\"text-align: right;\">\n",
       "      <th></th>\n",
       "      <th>0</th>\n",
       "      <th>1</th>\n",
       "      <th>2</th>\n",
       "      <th>3</th>\n",
       "    </tr>\n",
       "  </thead>\n",
       "  <tbody>\n",
       "    <tr>\n",
       "      <th>0</th>\n",
       "      <td>↓</td>\n",
       "      <td>↓</td>\n",
       "      <td>↓</td>\n",
       "      <td>↓</td>\n",
       "    </tr>\n",
       "    <tr>\n",
       "      <th>1</th>\n",
       "      <td>↓</td>\n",
       "      <td>↓</td>\n",
       "      <td>↓</td>\n",
       "      <td>↓</td>\n",
       "    </tr>\n",
       "    <tr>\n",
       "      <th>2</th>\n",
       "      <td>→</td>\n",
       "      <td>→</td>\n",
       "      <td>→</td>\n",
       "      <td>↓</td>\n",
       "    </tr>\n",
       "    <tr>\n",
       "      <th>3</th>\n",
       "      <td>↑</td>\n",
       "      <td>X</td>\n",
       "      <td>X</td>\n",
       "      <td>G</td>\n",
       "    </tr>\n",
       "  </tbody>\n",
       "</table>\n",
       "</div>"
      ],
      "text/plain": [
       "   0  1  2  3\n",
       "0  ↓  ↓  ↓  ↓\n",
       "1  ↓  ↓  ↓  ↓\n",
       "2  →  →  →  ↓\n",
       "3  ↑  X  X  G"
      ]
     },
     "execution_count": 49,
     "metadata": {},
     "output_type": "execute_result"
    }
   ],
   "source": [
    "optimal_policy,v,history = policy_iteration(cliff)\n",
    "print_policy(optimal_policy,cliff)"
   ]
  },
  {
   "cell_type": "markdown",
   "metadata": {},
   "source": [
    "The history of learning is shown below"
   ]
  },
  {
   "cell_type": "code",
   "execution_count": 50,
   "metadata": {},
   "outputs": [
    {
     "name": "stdout",
     "output_type": "stream",
     "text": [
      "   0  1  2  3\n",
      "0  ↓  ↑  →  ↓\n",
      "1  →  ↓  ↑  ←\n",
      "2  →  ←  ↓  ↓\n",
      "3  ↓  X  X  G\n",
      "\n",
      "\n",
      "   0  1  2  3\n",
      "0  ↑  ↑  ↑  ↑\n",
      "1  ↑  ↑  ↑  ↓\n",
      "2  ↑  ↑  →  ↓\n",
      "3  ↑  X  X  G\n",
      "\n",
      "\n",
      "   0  1  2  3\n",
      "0  ↑  ↑  ↑  ↓\n",
      "1  ↑  ↑  ↓  ↓\n",
      "2  ↑  →  →  ↓\n",
      "3  ↑  X  X  G\n",
      "\n",
      "\n",
      "   0  1  2  3\n",
      "0  ↑  ↑  ↓  ↓\n",
      "1  ↑  ↓  ↓  ↓\n",
      "2  →  →  →  ↓\n",
      "3  ↑  X  X  G\n",
      "\n",
      "\n",
      "   0  1  2  3\n",
      "0  ↑  ↓  ↓  ↓\n",
      "1  ↓  ↓  ↓  ↓\n",
      "2  →  →  →  ↓\n",
      "3  ↑  X  X  G\n",
      "\n",
      "\n",
      "   0  1  2  3\n",
      "0  ↓  ↓  ↓  ↓\n",
      "1  ↓  ↓  ↓  ↓\n",
      "2  →  →  →  ↓\n",
      "3  ↑  X  X  G\n",
      "\n",
      "\n"
     ]
    }
   ],
   "source": [
    "for df in history:\n",
    "    print(df)\n",
    "    print(\"\\n\")"
   ]
  },
  {
   "cell_type": "markdown",
   "metadata": {},
   "source": [
    "## Value Iteration"
   ]
  },
  {
   "cell_type": "markdown",
   "metadata": {},
   "source": [
    "Policy iteration carries out iterative policy evaluation which is an interative and potentially expensive process. Finding the true value $v_{\\pi}$ using IPE is not necessary to guarantee that we converge to the optimal policy."
   ]
  },
  {
   "cell_type": "markdown",
   "metadata": {},
   "source": [
    "Value iteration is almost identicall to iterative policy evaluation. It simply takes the **Bellman Expectation equation for state values** used in IPE\n",
    "$$ v_{k+1}(s) \\doteq \\sum_{a} \\pi(a|s) \\sum_{s',r}  p(s',r|s,a) [r + \\gamma v_{\\pi}(s')] $$"
   ]
  },
  {
   "cell_type": "markdown",
   "metadata": {},
   "source": [
    "It then replaces a summation over the actions with a max over the actions\n",
    "$$ v_{k+1}(s) \\doteq \\max_{a} \\sum_{s',r}  p(s',r|s,a) [r + \\gamma v_{\\pi}(s')] $$"
   ]
  },
  {
   "cell_type": "markdown",
   "metadata": {},
   "source": [
    "In fact this is the **Bellman Optimality Equation** being deployed as an update rule."
   ]
  },
  {
   "cell_type": "markdown",
   "metadata": {},
   "source": [
    "The algorithm is given below:"
   ]
  },
  {
   "cell_type": "markdown",
   "metadata": {},
   "source": [
    "![value_iteration](value_iteration.png)"
   ]
  },
  {
   "cell_type": "code",
   "execution_count": 72,
   "metadata": {},
   "outputs": [],
   "source": [
    "def value_iteration(env,eps):\n",
    "    '''\n",
    "    Function to determine an optimal policy using value iteration\n",
    "    Inputs:\n",
    "        env: object of environment class\n",
    "        eps: Epsilon to determine convergence\n",
    "    Returns:\n",
    "        Optimal policy\n",
    "    \n",
    "    \n",
    "    '''\n",
    "    states = env.actions.keys() # all non terminal states\n",
    "    policy = create_policy(env,policy_type='empty')\n",
    "    gamma = env.gamma\n",
    "    \n",
    "    V = np.random.rand(env.rows,env.cols)\n",
    "    V[env.rows-1,env.cols-1] = 0\n",
    "    \n",
    "    while True:\n",
    "        delta = 0\n",
    "        for state in states:\n",
    "            i,j = state\n",
    "            v_old = V[i,j]\n",
    "            action_values =[]\n",
    "            actions = env.actions[state]\n",
    "            for action in actions:\n",
    "                    env.set_state(i,j)\n",
    "                    #Move agent to get reward\n",
    "                    reward = env.move(action)\n",
    "                    v = reward+gamma*V[env.present_state()]\n",
    "                    action_values.append(v)\n",
    "            v_max = np.max(action_values)\n",
    "            V[i,j] = v_max\n",
    "            delta = max(delta,np.abs(v_old-v_max))\n",
    "        \n",
    "        if delta < eps: #Output a deterministic policy \n",
    "                for state in states:\n",
    "                    i,j = state\n",
    "                    action_values =[]\n",
    "                    actions = env.actions[state]\n",
    "                    for action in actions:\n",
    "                            env.set_state(i,j)\n",
    "                            #Move agent to get reward\n",
    "                            reward = env.move(action)\n",
    "                            v = reward+gamma*V[env.present_state()]\n",
    "                            action_values.append(v)\n",
    "        \n",
    "                    optimal_action = actions[np.argmax(action_values)] #Find action with maximum action value\n",
    "                    policy[state][optimal_action] = 1 #Set probability of this action to 1\n",
    "                \n",
    "                return policy\n"
   ]
  },
  {
   "cell_type": "code",
   "execution_count": 74,
   "metadata": {},
   "outputs": [],
   "source": [
    "optimal_policy = value_iteration(cliff,0.01)"
   ]
  },
  {
   "cell_type": "code",
   "execution_count": 75,
   "metadata": {},
   "outputs": [
    {
     "data": {
      "text/html": [
       "<div>\n",
       "<style scoped>\n",
       "    .dataframe tbody tr th:only-of-type {\n",
       "        vertical-align: middle;\n",
       "    }\n",
       "\n",
       "    .dataframe tbody tr th {\n",
       "        vertical-align: top;\n",
       "    }\n",
       "\n",
       "    .dataframe thead th {\n",
       "        text-align: right;\n",
       "    }\n",
       "</style>\n",
       "<table border=\"1\" class=\"dataframe\">\n",
       "  <thead>\n",
       "    <tr style=\"text-align: right;\">\n",
       "      <th></th>\n",
       "      <th>0</th>\n",
       "      <th>1</th>\n",
       "      <th>2</th>\n",
       "      <th>3</th>\n",
       "    </tr>\n",
       "  </thead>\n",
       "  <tbody>\n",
       "    <tr>\n",
       "      <th>0</th>\n",
       "      <td>↓</td>\n",
       "      <td>↓</td>\n",
       "      <td>↓</td>\n",
       "      <td>↓</td>\n",
       "    </tr>\n",
       "    <tr>\n",
       "      <th>1</th>\n",
       "      <td>↓</td>\n",
       "      <td>↓</td>\n",
       "      <td>↓</td>\n",
       "      <td>↓</td>\n",
       "    </tr>\n",
       "    <tr>\n",
       "      <th>2</th>\n",
       "      <td>→</td>\n",
       "      <td>→</td>\n",
       "      <td>→</td>\n",
       "      <td>↓</td>\n",
       "    </tr>\n",
       "    <tr>\n",
       "      <th>3</th>\n",
       "      <td>↑</td>\n",
       "      <td>X</td>\n",
       "      <td>X</td>\n",
       "      <td>G</td>\n",
       "    </tr>\n",
       "  </tbody>\n",
       "</table>\n",
       "</div>"
      ],
      "text/plain": [
       "   0  1  2  3\n",
       "0  ↓  ↓  ↓  ↓\n",
       "1  ↓  ↓  ↓  ↓\n",
       "2  →  →  →  ↓\n",
       "3  ↑  X  X  G"
      ]
     },
     "execution_count": 75,
     "metadata": {},
     "output_type": "execute_result"
    }
   ],
   "source": [
    "print_policy(optimal_policy,cliff)"
   ]
  },
  {
   "cell_type": "markdown",
   "metadata": {},
   "source": [
    "## References"
   ]
  },
  {
   "cell_type": "markdown",
   "metadata": {},
   "source": [
    "### Articles and Blogs"
   ]
  },
  {
   "cell_type": "markdown",
   "metadata": {},
   "source": [
    "1) [Multi Armed Bandits at Stitch Fix](https://multithreaded.stitchfix.com/blog/2020/08/05/bandits/) <br>\n",
    "2) [A Long Peek into RL](https://lilianweng.github.io/lil-log/2018/02/19/a-long-peek-into-reinforcement-learning.html)"
   ]
  },
  {
   "cell_type": "markdown",
   "metadata": {},
   "source": [
    "### Courses"
   ]
  },
  {
   "cell_type": "markdown",
   "metadata": {},
   "source": [
    "1) [David Silver Course at UCL](https://www.davidsilver.uk/teaching/) <br>\n",
    "2) [Coursera RL Specialization](https://www.coursera.org/learn/fundamentals-of-reinforcement-learning) [Notes](https://www.notion.so/Coursera-MOOC-784382797f00445483b0252d409d7eae) <br>\n",
    "3) [Udemy Course](https://www.udemy.com/course/artificial-intelligence-reinforcement-learning-in-python/) <br>"
   ]
  },
  {
   "cell_type": "markdown",
   "metadata": {},
   "source": [
    "### Books"
   ]
  },
  {
   "cell_type": "markdown",
   "metadata": {},
   "source": [
    "[Sutton and Barto](http://incompleteideas.net/book/RLbook2020.pdf)"
   ]
  },
  {
   "cell_type": "code",
   "execution_count": null,
   "metadata": {},
   "outputs": [],
   "source": []
  }
 ],
 "metadata": {
  "kernelspec": {
   "display_name": "Python 3",
   "language": "python",
   "name": "python3"
  },
  "language_info": {
   "codemirror_mode": {
    "name": "ipython",
    "version": 3
   },
   "file_extension": ".py",
   "mimetype": "text/x-python",
   "name": "python",
   "nbconvert_exporter": "python",
   "pygments_lexer": "ipython3",
   "version": "3.6.5"
  }
 },
 "nbformat": 4,
 "nbformat_minor": 2
}
